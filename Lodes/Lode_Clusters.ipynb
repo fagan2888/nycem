{
 "cells": [
  {
   "cell_type": "code",
   "execution_count": 283,
   "metadata": {
    "collapsed": true
   },
   "outputs": [],
   "source": [
    "import pandas as pd\n",
    "import numpy as np \n",
    "from time import time\n",
    "import matplotlib.pyplot as plt\n",
    "%matplotlib inline\n",
    "\n",
    "from sklearn.preprocessing import scale\n",
    "from sklearn.cluster import KMeans\n",
    "from sklearn.decomposition import PCA\n",
    "from sklearn import metrics"
   ]
  },
  {
   "cell_type": "markdown",
   "metadata": {},
   "source": [
    "####Process Data"
   ]
  },
  {
   "cell_type": "code",
   "execution_count": 184,
   "metadata": {
    "collapsed": true
   },
   "outputs": [],
   "source": [
    "nyc_rac = pd.read_csv(\"ny_rac_S000_JT02_2012.csv\", dtype = {'h_geocode': object})\n",
    "\n",
    "count_filter = ['36005', '36047', '36061', '36081', '36085']\n",
    "nyc_rac = nyc_rac[nyc_rac['h_geocode'].apply(lambda x: x[0:5]).isin(count_filter)]"
   ]
  },
  {
   "cell_type": "code",
   "execution_count": null,
   "metadata": {
    "collapsed": true
   },
   "outputs": [],
   "source": [
    "nyc_rac = nyc_rac[list(nyc_rac.columns)[:-1]]"
   ]
  },
  {
   "cell_type": "code",
   "execution_count": 175,
   "metadata": {
    "collapsed": false
   },
   "outputs": [],
   "source": [
    "nyc_rac.loc[:,('group_code')] = nyc_rac['h_geocode'].apply(lambda x: x[:-4])"
   ]
  },
  {
   "cell_type": "code",
   "execution_count": 180,
   "metadata": {
    "collapsed": false
   },
   "outputs": [],
   "source": [
    "nyc_rac_grouped = nyc_rac.groupby('group_code')[list(nyc_rac.columns)[:-1]].agg('sum')\n",
    "del nyc_rac_grouped['createdate']"
   ]
  },
  {
   "cell_type": "code",
   "execution_count": 191,
   "metadata": {
    "collapsed": false
   },
   "outputs": [],
   "source": [
    "nyc_rac_grouped = nyc_rac_grouped[list(nyc_rac_grouped.columns)[7:27]]"
   ]
  },
  {
   "cell_type": "code",
   "execution_count": 192,
   "metadata": {
    "collapsed": false
   },
   "outputs": [
    {
     "data": {
      "text/html": [
       "<div style=\"max-height:1000px;max-width:1500px;overflow:auto;\">\n",
       "<table border=\"1\" class=\"dataframe\">\n",
       "  <thead>\n",
       "    <tr style=\"text-align: right;\">\n",
       "      <th></th>\n",
       "      <th>CNS01</th>\n",
       "      <th>CNS02</th>\n",
       "      <th>CNS03</th>\n",
       "      <th>CNS04</th>\n",
       "      <th>CNS05</th>\n",
       "      <th>CNS06</th>\n",
       "      <th>CNS07</th>\n",
       "      <th>CNS08</th>\n",
       "      <th>CNS09</th>\n",
       "      <th>CNS10</th>\n",
       "      <th>CNS11</th>\n",
       "      <th>CNS12</th>\n",
       "      <th>CNS13</th>\n",
       "      <th>CNS14</th>\n",
       "      <th>CNS15</th>\n",
       "      <th>CNS16</th>\n",
       "      <th>CNS17</th>\n",
       "      <th>CNS18</th>\n",
       "      <th>CNS19</th>\n",
       "      <th>CNS20</th>\n",
       "    </tr>\n",
       "    <tr>\n",
       "      <th>group_code</th>\n",
       "      <th></th>\n",
       "      <th></th>\n",
       "      <th></th>\n",
       "      <th></th>\n",
       "      <th></th>\n",
       "      <th></th>\n",
       "      <th></th>\n",
       "      <th></th>\n",
       "      <th></th>\n",
       "      <th></th>\n",
       "      <th></th>\n",
       "      <th></th>\n",
       "      <th></th>\n",
       "      <th></th>\n",
       "      <th></th>\n",
       "      <th></th>\n",
       "      <th></th>\n",
       "      <th></th>\n",
       "      <th></th>\n",
       "      <th></th>\n",
       "    </tr>\n",
       "  </thead>\n",
       "  <tbody>\n",
       "    <tr>\n",
       "      <th>36005000100</th>\n",
       "      <td>1</td>\n",
       "      <td>0</td>\n",
       "      <td>1</td>\n",
       "      <td>39</td>\n",
       "      <td>32</td>\n",
       "      <td>37</td>\n",
       "      <td>125</td>\n",
       "      <td>46</td>\n",
       "      <td>18</td>\n",
       "      <td>19</td>\n",
       "      <td>22</td>\n",
       "      <td>25</td>\n",
       "      <td>5</td>\n",
       "      <td>78</td>\n",
       "      <td>22</td>\n",
       "      <td>219</td>\n",
       "      <td>13</td>\n",
       "      <td>77</td>\n",
       "      <td>32</td>\n",
       "      <td>0</td>\n",
       "    </tr>\n",
       "    <tr>\n",
       "      <th>36005000200</th>\n",
       "      <td>0</td>\n",
       "      <td>0</td>\n",
       "      <td>5</td>\n",
       "      <td>27</td>\n",
       "      <td>35</td>\n",
       "      <td>57</td>\n",
       "      <td>178</td>\n",
       "      <td>50</td>\n",
       "      <td>31</td>\n",
       "      <td>47</td>\n",
       "      <td>50</td>\n",
       "      <td>59</td>\n",
       "      <td>22</td>\n",
       "      <td>81</td>\n",
       "      <td>49</td>\n",
       "      <td>269</td>\n",
       "      <td>33</td>\n",
       "      <td>104</td>\n",
       "      <td>62</td>\n",
       "      <td>0</td>\n",
       "    </tr>\n",
       "    <tr>\n",
       "      <th>36005000400</th>\n",
       "      <td>0</td>\n",
       "      <td>0</td>\n",
       "      <td>9</td>\n",
       "      <td>59</td>\n",
       "      <td>42</td>\n",
       "      <td>76</td>\n",
       "      <td>179</td>\n",
       "      <td>64</td>\n",
       "      <td>51</td>\n",
       "      <td>84</td>\n",
       "      <td>79</td>\n",
       "      <td>114</td>\n",
       "      <td>30</td>\n",
       "      <td>106</td>\n",
       "      <td>73</td>\n",
       "      <td>357</td>\n",
       "      <td>32</td>\n",
       "      <td>160</td>\n",
       "      <td>78</td>\n",
       "      <td>0</td>\n",
       "    </tr>\n",
       "    <tr>\n",
       "      <th>36005001600</th>\n",
       "      <td>1</td>\n",
       "      <td>0</td>\n",
       "      <td>8</td>\n",
       "      <td>44</td>\n",
       "      <td>41</td>\n",
       "      <td>41</td>\n",
       "      <td>230</td>\n",
       "      <td>59</td>\n",
       "      <td>44</td>\n",
       "      <td>59</td>\n",
       "      <td>81</td>\n",
       "      <td>94</td>\n",
       "      <td>23</td>\n",
       "      <td>116</td>\n",
       "      <td>74</td>\n",
       "      <td>442</td>\n",
       "      <td>37</td>\n",
       "      <td>110</td>\n",
       "      <td>74</td>\n",
       "      <td>0</td>\n",
       "    </tr>\n",
       "    <tr>\n",
       "      <th>36005001900</th>\n",
       "      <td>0</td>\n",
       "      <td>1</td>\n",
       "      <td>2</td>\n",
       "      <td>21</td>\n",
       "      <td>33</td>\n",
       "      <td>41</td>\n",
       "      <td>91</td>\n",
       "      <td>22</td>\n",
       "      <td>21</td>\n",
       "      <td>49</td>\n",
       "      <td>24</td>\n",
       "      <td>40</td>\n",
       "      <td>13</td>\n",
       "      <td>48</td>\n",
       "      <td>26</td>\n",
       "      <td>149</td>\n",
       "      <td>13</td>\n",
       "      <td>75</td>\n",
       "      <td>37</td>\n",
       "      <td>0</td>\n",
       "    </tr>\n",
       "  </tbody>\n",
       "</table>\n",
       "</div>"
      ],
      "text/plain": [
       "             CNS01  CNS02  CNS03  CNS04  CNS05  CNS06  CNS07  CNS08  CNS09  \\\n",
       "group_code                                                                   \n",
       "36005000100      1      0      1     39     32     37    125     46     18   \n",
       "36005000200      0      0      5     27     35     57    178     50     31   \n",
       "36005000400      0      0      9     59     42     76    179     64     51   \n",
       "36005001600      1      0      8     44     41     41    230     59     44   \n",
       "36005001900      0      1      2     21     33     41     91     22     21   \n",
       "\n",
       "             CNS10  CNS11  CNS12  CNS13  CNS14  CNS15  CNS16  CNS17  CNS18  \\\n",
       "group_code                                                                   \n",
       "36005000100     19     22     25      5     78     22    219     13     77   \n",
       "36005000200     47     50     59     22     81     49    269     33    104   \n",
       "36005000400     84     79    114     30    106     73    357     32    160   \n",
       "36005001600     59     81     94     23    116     74    442     37    110   \n",
       "36005001900     49     24     40     13     48     26    149     13     75   \n",
       "\n",
       "             CNS19  CNS20  \n",
       "group_code                 \n",
       "36005000100     32      0  \n",
       "36005000200     62      0  \n",
       "36005000400     78      0  \n",
       "36005001600     74      0  \n",
       "36005001900     37      0  "
      ]
     },
     "execution_count": 192,
     "metadata": {},
     "output_type": "execute_result"
    }
   ],
   "source": [
    "nyc_rac_grouped.head()"
   ]
  },
  {
   "cell_type": "code",
   "execution_count": 194,
   "metadata": {
    "collapsed": false
   },
   "outputs": [],
   "source": [
    "group_code_index = nyc_rac_grouped.index"
   ]
  },
  {
   "cell_type": "code",
   "execution_count": 196,
   "metadata": {
    "collapsed": false
   },
   "outputs": [],
   "source": [
    "rac_array = nyc_rac_grouped.values "
   ]
  },
  {
   "cell_type": "code",
   "execution_count": 199,
   "metadata": {
    "collapsed": false
   },
   "outputs": [],
   "source": [
    "rac_array = rac_array.astype(float)"
   ]
  },
  {
   "cell_type": "code",
   "execution_count": 311,
   "metadata": {
    "collapsed": false
   },
   "outputs": [],
   "source": [
    "data = scale(rac_array)"
   ]
  },
  {
   "cell_type": "markdown",
   "metadata": {},
   "source": [
    "####K-Means Clustering"
   ]
  },
  {
   "cell_type": "code",
   "execution_count": 312,
   "metadata": {
    "collapsed": false
   },
   "outputs": [],
   "source": [
    "n_samples, n_features = data.shape"
   ]
  },
  {
   "cell_type": "code",
   "execution_count": 378,
   "metadata": {
    "collapsed": true
   },
   "outputs": [],
   "source": [
    "n_digits = [2, 3, 4, 5, 6, 7, 8, 9, 10]"
   ]
  },
  {
   "cell_type": "code",
   "execution_count": 377,
   "metadata": {
    "collapsed": true
   },
   "outputs": [],
   "source": [
    "sample_size = 300\n",
    "\n",
    "def bench_k_means(estimator, name, data):\n",
    "    t0 = time()\n",
    "    estimator.fit(data)\n",
    "    print('% 9s   %.2fs    %i   %.3f   %.3f   %.3f   %.3f   %.3f    %.3f'\n",
    "          % (name, (time() - t0), estimator.inertia_,\n",
    "             metrics.homogeneity_score(labels, estimator.labels_),\n",
    "             metrics.completeness_score(labels, estimator.labels_),\n",
    "             metrics.v_measure_score(labels, estimator.labels_),\n",
    "             metrics.adjusted_rand_score(labels, estimator.labels_),\n",
    "             metrics.adjusted_mutual_info_score(labels,  estimator.labels_),\n",
    "             metrics.silhouette_score(data, estimator.labels_,\n",
    "                                      metric='euclidean',\n",
    "                                      sample_size=sample_size)))"
   ]
  },
  {
   "cell_type": "code",
   "execution_count": 406,
   "metadata": {
    "collapsed": false
   },
   "outputs": [
    {
     "name": "stdout",
     "output_type": "stream",
     "text": [
      "_______________________________________________________________________________\n",
      "Clusters     time   inertia   homo    compl   v-meas  ARI     AMI      silhouette\n",
      "2 clusters   0.20s    29571   0.291   0.711   0.413   0.306   0.290    0.413\n",
      "3 clusters   0.20s    23704   0.411   0.593   0.486   0.350   0.410    0.291\n",
      "4 clusters   0.31s    21323   0.812   0.857   0.834   0.860   0.811    0.207\n",
      "5 clusters   0.27s    19388   0.707   0.738   0.722   0.671   0.706    0.248\n",
      "6 clusters   0.35s    18618   0.595   0.477   0.529   0.433   0.475    0.159\n",
      "7 clusters   0.42s    16650   0.657   0.509   0.573   0.461   0.507    0.198\n",
      "8 clusters   0.37s    15797   0.652   0.483   0.555   0.392   0.480    0.180\n",
      "9 clusters   0.38s    15014   0.629   0.426   0.508   0.357   0.424    0.190\n",
      "10 clusters   0.36s    14337   0.636   0.413   0.501   0.346   0.410    0.219\n"
     ]
    }
   ],
   "source": [
    "print(79 * '_')\n",
    "print('% 10s' % 'Clusters'\n",
    "      '     time   inertia   homo    compl   v-meas  ARI     AMI      silhouette')\n",
    "for cluster in n_digits:\n",
    "    name = str(cluster) + \" clusters\"\n",
    "    bench_k_means(KMeans(n_clusters = cluster), name = name, data = data)"
   ]
  },
  {
   "cell_type": "code",
   "execution_count": null,
   "metadata": {
    "collapsed": false
   },
   "outputs": [],
   "source": []
  },
  {
   "cell_type": "code",
   "execution_count": 375,
   "metadata": {
    "collapsed": true
   },
   "outputs": [],
   "source": []
  },
  {
   "cell_type": "code",
   "execution_count": 376,
   "metadata": {
    "collapsed": false
   },
   "outputs": [
    {
     "name": "stdout",
     "output_type": "stream",
     "text": [
      "PCA-based   0.02s    29571   0.292   0.713   0.415   0.307   0.292    0.468\n"
     ]
    }
   ],
   "source": [
    "bench_k_means(KMeans(init=pca.components_, n_clusters=5, n_init=1),\n",
    "              name=\"PCA-based\",\n",
    "              data=data)"
   ]
  },
  {
   "cell_type": "code",
   "execution_count": 357,
   "metadata": {
    "collapsed": false
   },
   "outputs": [
    {
     "data": {
      "image/png": "[encoded data removed]",
      "text/plain": [
       "<matplotlib.figure.Figure at 0x11e2c72d0>"
      ]
     },
     "metadata": {},
     "output_type": "display_data"
    }
   ],
   "source": [
    "h = .02     # point in the mesh [x_min, m_max]x[y_min, y_max].\n",
    "\n",
    "# Plot the decision boundary. For that, we will assign a color to each\n",
    "x_min, x_max = reduced_data[:, 0].min() + 1, reduced_data[:, 0].max() - 1\n",
    "y_min, y_max = reduced_data[:, 1].min() + 1, reduced_data[:, 1].max() - 1\n",
    "xx, yy = np.meshgrid(np.arange(x_min, x_max, h), np.arange(y_min, y_max, h))\n",
    "\n",
    "# Obtain labels for each point in mesh. Use last trained model.\n",
    "Z = kmeans.predict(np.c_[xx.ravel(), yy.ravel()])\n",
    "\n",
    "# Put the result into a color plot\n",
    "Z = Z.reshape(xx.shape)\n",
    "plt.figure(1)\n",
    "plt.clf()\n",
    "plt.imshow(Z, interpolation='nearest',\n",
    "           extent=(xx.min(), xx.max(), yy.min(), yy.max()),\n",
    "           cmap=plt.cm.Paired,\n",
    "           aspect='auto', origin='lower')\n",
    "\n",
    "plt.plot(reduced_data[:, 0], reduced_data[:, 1], 'k.', markersize=2)\n",
    "# Plot the centroids as a white X\n",
    "centroids = kmeans.cluster_centers_\n",
    "plt.scatter(centroids[:, 0], centroids[:, 1],\n",
    "            marker='x', s=169, linewidths=3,\n",
    "            color='w', zorder=10)\n",
    "plt.title('K-means clustering on the digits dataset (PCA-reduced data)\\n'\n",
    "          'Centroids are marked with white cross')\n",
    "plt.xlim(x_min, x_max)\n",
    "plt.ylim(y_min, y_max)\n",
    "plt.xticks(())\n",
    "plt.yticks(())\n",
    "plt.show()"
   ]
  },
  {
   "cell_type": "code",
   "execution_count": null,
   "metadata": {
    "collapsed": false
   },
   "outputs": [],
   "source": []
  }
 ],
 "metadata": {
  "kernelspec": {
   "display_name": "Python 2",
   "language": "python",
   "name": "python2"
  },
  "language_info": {
   "codemirror_mode": {
    "name": "ipython",
    "version": 2
   },
   "file_extension": ".py",
   "mimetype": "text/x-python",
   "name": "python",
   "nbconvert_exporter": "python",
   "pygments_lexer": "ipython2",
   "version": "2.7.9"
  }
 },
 "nbformat": 4,
 "nbformat_minor": 0
}
