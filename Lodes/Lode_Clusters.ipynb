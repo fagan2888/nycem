{
 "cells": [
  {
   "cell_type": "code",
   "execution_count": 195,
   "metadata": {
    "collapsed": true
   },
   "outputs": [],
   "source": [
    "import pandas as pd\n",
    "import numpy as np \n",
    "\n",
    "from sklearn.preprocessing import scale\n",
    "from sklearn.cluster import KMeans\n",
    "\n",
    "\n",
    "from matplotlib import pyplot\n",
    "%matplotlib inline"
   ]
  },
  {
   "cell_type": "code",
   "execution_count": 184,
   "metadata": {
    "collapsed": true
   },
   "outputs": [],
   "source": [
    "nyc_rac = pd.read_csv(\"ny_rac_S000_JT02_2012.csv\", dtype = {'h_geocode': object})\n",
    "\n",
    "count_filter = ['36005', '36047', '36061', '36081', '36085']\n",
    "nyc_rac = nyc_rac[nyc_rac['h_geocode'].apply(lambda x: x[0:5]).isin(count_filter)]"
   ]
  },
  {
   "cell_type": "code",
   "execution_count": null,
   "metadata": {
    "collapsed": true
   },
   "outputs": [],
   "source": [
    "nyc_rac = nyc_rac[list(nyc_rac.columns)[:-1]]"
   ]
  },
  {
   "cell_type": "code",
   "execution_count": 175,
   "metadata": {
    "collapsed": false
   },
   "outputs": [],
   "source": [
    "nyc_rac.loc[:,('group_code')] = nyc_rac['h_geocode'].apply(lambda x: x[:-4])"
   ]
  },
  {
   "cell_type": "code",
   "execution_count": 180,
   "metadata": {
    "collapsed": false
   },
   "outputs": [],
   "source": [
    "nyc_rac_grouped = nyc_rac.groupby('group_code')[list(nyc_rac.columns)[:-1]].agg('sum')\n",
    "del nyc_rac_grouped['createdate']"
   ]
  },
  {
   "cell_type": "code",
   "execution_count": 191,
   "metadata": {
    "collapsed": false
   },
   "outputs": [],
   "source": [
    "nyc_rac_grouped = nyc_rac_grouped[list(nyc_rac_grouped.columns)[7:27]]"
   ]
  },
  {
   "cell_type": "code",
   "execution_count": 192,
   "metadata": {
    "collapsed": false
   },
   "outputs": [
    {
     "data": {
      "text/html": [
       "<div style=\"max-height:1000px;max-width:1500px;overflow:auto;\">\n",
       "<table border=\"1\" class=\"dataframe\">\n",
       "  <thead>\n",
       "    <tr style=\"text-align: right;\">\n",
       "      <th></th>\n",
       "      <th>CNS01</th>\n",
       "      <th>CNS02</th>\n",
       "      <th>CNS03</th>\n",
       "      <th>CNS04</th>\n",
       "      <th>CNS05</th>\n",
       "      <th>CNS06</th>\n",
       "      <th>CNS07</th>\n",
       "      <th>CNS08</th>\n",
       "      <th>CNS09</th>\n",
       "      <th>CNS10</th>\n",
       "      <th>CNS11</th>\n",
       "      <th>CNS12</th>\n",
       "      <th>CNS13</th>\n",
       "      <th>CNS14</th>\n",
       "      <th>CNS15</th>\n",
       "      <th>CNS16</th>\n",
       "      <th>CNS17</th>\n",
       "      <th>CNS18</th>\n",
       "      <th>CNS19</th>\n",
       "      <th>CNS20</th>\n",
       "    </tr>\n",
       "    <tr>\n",
       "      <th>group_code</th>\n",
       "      <th></th>\n",
       "      <th></th>\n",
       "      <th></th>\n",
       "      <th></th>\n",
       "      <th></th>\n",
       "      <th></th>\n",
       "      <th></th>\n",
       "      <th></th>\n",
       "      <th></th>\n",
       "      <th></th>\n",
       "      <th></th>\n",
       "      <th></th>\n",
       "      <th></th>\n",
       "      <th></th>\n",
       "      <th></th>\n",
       "      <th></th>\n",
       "      <th></th>\n",
       "      <th></th>\n",
       "      <th></th>\n",
       "      <th></th>\n",
       "    </tr>\n",
       "  </thead>\n",
       "  <tbody>\n",
       "    <tr>\n",
       "      <th>36005000100</th>\n",
       "      <td>1</td>\n",
       "      <td>0</td>\n",
       "      <td>1</td>\n",
       "      <td>39</td>\n",
       "      <td>32</td>\n",
       "      <td>37</td>\n",
       "      <td>125</td>\n",
       "      <td>46</td>\n",
       "      <td>18</td>\n",
       "      <td>19</td>\n",
       "      <td>22</td>\n",
       "      <td>25</td>\n",
       "      <td>5</td>\n",
       "      <td>78</td>\n",
       "      <td>22</td>\n",
       "      <td>219</td>\n",
       "      <td>13</td>\n",
       "      <td>77</td>\n",
       "      <td>32</td>\n",
       "      <td>0</td>\n",
       "    </tr>\n",
       "    <tr>\n",
       "      <th>36005000200</th>\n",
       "      <td>0</td>\n",
       "      <td>0</td>\n",
       "      <td>5</td>\n",
       "      <td>27</td>\n",
       "      <td>35</td>\n",
       "      <td>57</td>\n",
       "      <td>178</td>\n",
       "      <td>50</td>\n",
       "      <td>31</td>\n",
       "      <td>47</td>\n",
       "      <td>50</td>\n",
       "      <td>59</td>\n",
       "      <td>22</td>\n",
       "      <td>81</td>\n",
       "      <td>49</td>\n",
       "      <td>269</td>\n",
       "      <td>33</td>\n",
       "      <td>104</td>\n",
       "      <td>62</td>\n",
       "      <td>0</td>\n",
       "    </tr>\n",
       "    <tr>\n",
       "      <th>36005000400</th>\n",
       "      <td>0</td>\n",
       "      <td>0</td>\n",
       "      <td>9</td>\n",
       "      <td>59</td>\n",
       "      <td>42</td>\n",
       "      <td>76</td>\n",
       "      <td>179</td>\n",
       "      <td>64</td>\n",
       "      <td>51</td>\n",
       "      <td>84</td>\n",
       "      <td>79</td>\n",
       "      <td>114</td>\n",
       "      <td>30</td>\n",
       "      <td>106</td>\n",
       "      <td>73</td>\n",
       "      <td>357</td>\n",
       "      <td>32</td>\n",
       "      <td>160</td>\n",
       "      <td>78</td>\n",
       "      <td>0</td>\n",
       "    </tr>\n",
       "    <tr>\n",
       "      <th>36005001600</th>\n",
       "      <td>1</td>\n",
       "      <td>0</td>\n",
       "      <td>8</td>\n",
       "      <td>44</td>\n",
       "      <td>41</td>\n",
       "      <td>41</td>\n",
       "      <td>230</td>\n",
       "      <td>59</td>\n",
       "      <td>44</td>\n",
       "      <td>59</td>\n",
       "      <td>81</td>\n",
       "      <td>94</td>\n",
       "      <td>23</td>\n",
       "      <td>116</td>\n",
       "      <td>74</td>\n",
       "      <td>442</td>\n",
       "      <td>37</td>\n",
       "      <td>110</td>\n",
       "      <td>74</td>\n",
       "      <td>0</td>\n",
       "    </tr>\n",
       "    <tr>\n",
       "      <th>36005001900</th>\n",
       "      <td>0</td>\n",
       "      <td>1</td>\n",
       "      <td>2</td>\n",
       "      <td>21</td>\n",
       "      <td>33</td>\n",
       "      <td>41</td>\n",
       "      <td>91</td>\n",
       "      <td>22</td>\n",
       "      <td>21</td>\n",
       "      <td>49</td>\n",
       "      <td>24</td>\n",
       "      <td>40</td>\n",
       "      <td>13</td>\n",
       "      <td>48</td>\n",
       "      <td>26</td>\n",
       "      <td>149</td>\n",
       "      <td>13</td>\n",
       "      <td>75</td>\n",
       "      <td>37</td>\n",
       "      <td>0</td>\n",
       "    </tr>\n",
       "  </tbody>\n",
       "</table>\n",
       "</div>"
      ],
      "text/plain": [
       "             CNS01  CNS02  CNS03  CNS04  CNS05  CNS06  CNS07  CNS08  CNS09  \\\n",
       "group_code                                                                   \n",
       "36005000100      1      0      1     39     32     37    125     46     18   \n",
       "36005000200      0      0      5     27     35     57    178     50     31   \n",
       "36005000400      0      0      9     59     42     76    179     64     51   \n",
       "36005001600      1      0      8     44     41     41    230     59     44   \n",
       "36005001900      0      1      2     21     33     41     91     22     21   \n",
       "\n",
       "             CNS10  CNS11  CNS12  CNS13  CNS14  CNS15  CNS16  CNS17  CNS18  \\\n",
       "group_code                                                                   \n",
       "36005000100     19     22     25      5     78     22    219     13     77   \n",
       "36005000200     47     50     59     22     81     49    269     33    104   \n",
       "36005000400     84     79    114     30    106     73    357     32    160   \n",
       "36005001600     59     81     94     23    116     74    442     37    110   \n",
       "36005001900     49     24     40     13     48     26    149     13     75   \n",
       "\n",
       "             CNS19  CNS20  \n",
       "group_code                 \n",
       "36005000100     32      0  \n",
       "36005000200     62      0  \n",
       "36005000400     78      0  \n",
       "36005001600     74      0  \n",
       "36005001900     37      0  "
      ]
     },
     "execution_count": 192,
     "metadata": {},
     "output_type": "execute_result"
    }
   ],
   "source": [
    "nyc_rac_grouped.head()"
   ]
  },
  {
   "cell_type": "code",
   "execution_count": 194,
   "metadata": {
    "collapsed": false
   },
   "outputs": [],
   "source": [
    "group_code_index = nyc_rac_grouped.index"
   ]
  },
  {
   "cell_type": "code",
   "execution_count": 196,
   "metadata": {
    "collapsed": false
   },
   "outputs": [],
   "source": [
    "rac_array = nyc_rac_grouped.values "
   ]
  },
  {
   "cell_type": "code",
   "execution_count": 199,
   "metadata": {
    "collapsed": false
   },
   "outputs": [],
   "source": [
    "rac_array = rac_array.astype(float)"
   ]
  },
  {
   "cell_type": "code",
   "execution_count": 215,
   "metadata": {
    "collapsed": false
   },
   "outputs": [],
   "source": [
    "data = scale(rac_array)"
   ]
  },
  {
   "cell_type": "code",
   "execution_count": 217,
   "metadata": {
    "collapsed": false
   },
   "outputs": [],
   "source": [
    "n_samples, n_features = data.shape"
   ]
  },
  {
   "cell_type": "code",
   "execution_count": 218,
   "metadata": {
    "collapsed": true
   },
   "outputs": [],
   "source": [
    "number_k = [2, 3, 4, 5, 6, 7, 8, 9, 10]"
   ]
  },
  {
   "cell_type": "code",
   "execution_count": 250,
   "metadata": {
    "collapsed": false
   },
   "outputs": [],
   "source": [
    "k = number_k[3]\n",
    "kmeans = KMeans(n_clusters=k)"
   ]
  },
  {
   "cell_type": "code",
   "execution_count": 251,
   "metadata": {
    "collapsed": false
   },
   "outputs": [
    {
     "data": {
      "text/plain": [
       "KMeans(copy_x=True, init='k-means++', max_iter=300, n_clusters=5, n_init=10,\n",
       "    n_jobs=1, precompute_distances=True, random_state=None, tol=0.0001,\n",
       "    verbose=0)"
      ]
     },
     "execution_count": 251,
     "metadata": {},
     "output_type": "execute_result"
    }
   ],
   "source": [
    "kmeans.fit(data)"
   ]
  },
  {
   "cell_type": "code",
   "execution_count": 252,
   "metadata": {
    "collapsed": true
   },
   "outputs": [],
   "source": [
    "labels = kmeans.labels_\n",
    "# centroids = kmeans.cluster_centers_"
   ]
  },
  {
   "cell_type": "code",
   "execution_count": 253,
   "metadata": {
    "collapsed": true
   },
   "outputs": [],
   "source": [
    "centroids = kmeans.cluster_centers_"
   ]
  },
  {
   "cell_type": "code",
   "execution_count": 259,
   "metadata": {
    "collapsed": false
   },
   "outputs": [
    {
     "data": {
      "image/png": "[encoded data removed]",
      "text/plain": [
       "<matplotlib.figure.Figure at 0x127bfdbd0>"
      ]
     },
     "metadata": {},
     "output_type": "display_data"
    }
   ],
   "source": [
    "for i in range(k):\n",
    "    # select only data observations with cluster label == i\n",
    "    ds = data[np.where(labels==i)]\n",
    "    # plot the data observations\n",
    "    pyplot.plot(ds[:,0],ds[:,1],'o')\n",
    "    # plot the centroids\n",
    "    lines = pyplot.plot(centroids[i,0],centroids[i,1],'kx')\n",
    "    # make the centroid x's bigger\n",
    "    pyplot.setp(lines,ms=15.0)\n",
    "    pyplot.setp(lines,mew=2.0)\n",
    "\n",
    "pyplot.show()"
   ]
  },
  {
   "cell_type": "code",
   "execution_count": 261,
   "metadata": {
    "collapsed": false
   },
   "outputs": [],
   "source": [
    "ds = data[np.where(labels==2)]"
   ]
  },
  {
   "cell_type": "code",
   "execution_count": 278,
   "metadata": {
    "collapsed": false
   },
   "outputs": [
    {
     "data": {
      "text/plain": [
       "(90, 20)"
      ]
     },
     "execution_count": 278,
     "metadata": {},
     "output_type": "execute_result"
    }
   ],
   "source": [
    "ds.shape\n",
    "# ds[1:]"
   ]
  },
  {
   "cell_type": "code",
   "execution_count": 269,
   "metadata": {
    "collapsed": false
   },
   "outputs": [
    {
     "data": {
      "text/plain": [
       "array([-0.55091273, -0.3654828 , -1.12780057,  0.14636292,  0.04818897,\n",
       "        3.37719486,  1.15324515, -0.30914533,  5.00542389,  8.15541837,\n",
       "        2.52479444,  6.11438731,  6.41623629,  2.23158552,  1.87404425,\n",
       "        0.02424741,  2.66156816,  2.04551309,  2.38905102, -0.10580184])"
      ]
     },
     "execution_count": 269,
     "metadata": {},
     "output_type": "execute_result"
    }
   ],
   "source": [
    "ds[1]"
   ]
  },
  {
   "cell_type": "code",
   "execution_count": 276,
   "metadata": {
    "collapsed": false
   },
   "outputs": [],
   "source": [
    "test = np.array([[1,2,3,4,5], [6,7,8,9,10], [11,12,13,14,15], [16,12,14,15,12]])"
   ]
  },
  {
   "cell_type": "code",
   "execution_count": 281,
   "metadata": {
    "collapsed": false
   },
   "outputs": [
    {
     "data": {
      "text/plain": [
       "array([ 3,  8, 13, 14])"
      ]
     },
     "execution_count": 281,
     "metadata": {},
     "output_type": "execute_result"
    }
   ],
   "source": [
    "test[:,2]"
   ]
  },
  {
   "cell_type": "code",
   "execution_count": 282,
   "metadata": {
    "collapsed": false
   },
   "outputs": [
    {
     "data": {
      "text/plain": [
       "array([[ 1.42000939, -0.3654828 ,  9.01562048, ...,  5.34926398,\n",
       "         6.4172534 , -0.10580184],\n",
       "       [-0.55091273, -0.3654828 , -1.12780057, ...,  2.04551309,\n",
       "         2.38905102, -0.10580184],\n",
       "       [-0.55091273, -0.3654828 , -0.87421505, ...,  0.6439218 ,\n",
       "         0.69980486, -0.10580184],\n",
       "       ..., \n",
       "       [ 0.43454833, -0.3654828 , -0.367044  , ...,  2.65870928,\n",
       "         2.23312061, -0.10580184],\n",
       "       [ 2.40547045,  2.0650899 ,  0.39371258, ...,  1.95791363,\n",
       "         1.60939895, -0.10580184],\n",
       "       [ 2.40547045, -0.3654828 ,  0.39371258, ...,  1.31968903,\n",
       "         1.66137575, -0.10580184]])"
      ]
     },
     "execution_count": 282,
     "metadata": {},
     "output_type": "execute_result"
    }
   ],
   "source": [
    "ds"
   ]
  },
  {
   "cell_type": "code",
   "execution_count": null,
   "metadata": {
    "collapsed": true
   },
   "outputs": [],
   "source": []
  }
 ],
 "metadata": {
  "kernelspec": {
   "display_name": "Python 2",
   "language": "python",
   "name": "python2"
  },
  "language_info": {
   "codemirror_mode": {
    "name": "ipython",
    "version": 2
   },
   "file_extension": ".py",
   "mimetype": "text/x-python",
   "name": "python",
   "nbconvert_exporter": "python",
   "pygments_lexer": "ipython2",
   "version": "2.7.9"
  }
 },
 "nbformat": 4,
 "nbformat_minor": 0
}
