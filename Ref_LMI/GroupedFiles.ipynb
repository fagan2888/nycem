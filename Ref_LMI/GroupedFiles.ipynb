{
 "cells": [
  {
   "cell_type": "code",
   "execution_count": 1,
   "metadata": {
    "collapsed": true
   },
   "outputs": [],
   "source": [
    "import pandas as pd"
   ]
  },
  {
   "cell_type": "code",
   "execution_count": 2,
   "metadata": {
    "collapsed": false
   },
   "outputs": [],
   "source": [
    "df10 = pd.read_csv(\"Ref10_LMI.csv\", index_col = 0, dtype = {'SHP_BOROUGH': object, 'SHP_CENSUS_TRACT': object, 'SHP_CENSUS_BLOCK': object, 'Geo_COUNTY': object} )\n",
    "df11 = pd.read_csv(\"Ref11_LMI.csv\", index_col = 0, dtype = {'SHP_BOROUGH': object, 'SHP_CENSUS_TRACT': object, 'SHP_CENSUS_BLOCK': object, 'Geo_COUNTY': object} )\n",
    "df12 = pd.read_csv(\"Ref12_LMI.csv\", index_col = 0, dtype = {'SHP_BOROUGH': object, 'SHP_CENSUS_TRACT': object, 'SHP_CENSUS_BLOCK': object, 'Geo_COUNTY': object} )\n",
    "df13 = pd.read_csv(\"Ref13_LMI.csv\", index_col = 0, dtype = {'SHP_BOROUGH': object, 'SHP_CENSUS_TRACT': object, 'SHP_CENSUS_BLOCK': object, 'Geo_COUNTY': object} )\n",
    "df14 = pd.read_csv(\"Ref14_LMI.csv\", index_col = 0, dtype = {'SHP_BOROUGH': object, 'SHP_CENSUS_TRACT': object, 'SHP_CENSUS_BLOCK': object, 'Geo_COUNTY': object} )"
   ]
  },
  {
   "cell_type": "code",
   "execution_count": 3,
   "metadata": {
    "collapsed": false
   },
   "outputs": [],
   "source": [
    "df10['count'] = 1\n",
    "df11['count'] = 1 \n",
    "df12['count'] = 1 \n",
    "df13['count'] = 1 \n",
    "df14['count'] = 1"
   ]
  },
  {
   "cell_type": "code",
   "execution_count": 4,
   "metadata": {
    "collapsed": false
   },
   "outputs": [],
   "source": [
    "df10_grouped = df10.groupby(['PRMSICD', 'PNACODE', 'PNATITL', 'Geo_COUNTY', 'SHP_BOROUGH', 'SHP_CENSUS_TRACT', 'lmi_ct'])['EMPSDT', 'SLSVDT', 'count'].agg(['sum', 'median']).reset_index()\n",
    "df11_grouped = df11.groupby(['SICD', 'PNACODE', 'PNATITL', 'Geo_COUNTY', 'SHP_BOROUGH', 'SHP_CENSUS_TRACT', 'lmi_ct'])['EMPSDT', 'SLSVDT', 'count'].agg(['sum', 'median']).reset_index()\n",
    "df12_grouped = df12.groupby(['SICD', 'PNACODE', 'PNATITL', 'Geo_COUNTY', 'SHP_BOROUGH', 'SHP_CENSUS_TRACT', 'lmi_ct'])['EMPSDT', 'SLSVDT', 'count'].agg(['sum', 'median']).reset_index()\n",
    "df13_grouped = df13.groupby(['SICD', 'PNACODE', 'PNATITL', 'Geo_COUNTY', 'SHP_BOROUGH', 'SHP_CENSUS_TRACT', 'lmi_ct'])['EMPSDT', 'SLSVDT', 'count'].agg(['sum', 'median']).reset_index()\n",
    "df14_grouped = df14.groupby(['SICD', 'PNACODE', 'PNATITL', 'Geo_COUNTY', 'SHP_BOROUGH', 'SHP_CENSUS_TRACT', 'lmi_ct'])['EMPSDT', 'SLSVDT', 'count'].agg(['sum', 'median']).reset_index()"
   ]
  },
  {
   "cell_type": "code",
   "execution_count": null,
   "metadata": {
    "collapsed": false
   },
   "outputs": [],
   "source": []
  },
  {
   "cell_type": "code",
   "execution_count": 5,
   "metadata": {
    "collapsed": false
   },
   "outputs": [],
   "source": [
    "cols = ['SICD', 'PNACODE', 'PNATITL', 'Geo_COUNTY', 'SHP_BOROUGH', 'SHP_CENSUS_TRACT', 'lmi_ct', \\\n",
    "        'EMPSDT_SUM', 'EMPSDT_MED', 'SLSVDT_SUM', 'SLSVDT_MED', 'count_SUM', 'count_MED']"
   ]
  },
  {
   "cell_type": "code",
   "execution_count": 6,
   "metadata": {
    "collapsed": false
   },
   "outputs": [],
   "source": [
    "df10_grouped.columns = df10_grouped.columns.droplevel(1)\n",
    "df11_grouped.columns = df11_grouped.columns.droplevel(1)\n",
    "df12_grouped.columns = df12_grouped.columns.droplevel(1)\n",
    "df13_grouped.columns = df13_grouped.columns.droplevel(1)\n",
    "df14_grouped.columns = df14_grouped.columns.droplevel(1)"
   ]
  },
  {
   "cell_type": "code",
   "execution_count": 7,
   "metadata": {
    "collapsed": false
   },
   "outputs": [],
   "source": [
    "df10_grouped.columns = cols\n",
    "df11_grouped.columns = cols\n",
    "df12_grouped.columns = cols\n",
    "df13_grouped.columns = cols\n",
    "df14_grouped.columns = cols"
   ]
  },
  {
   "cell_type": "code",
   "execution_count": 8,
   "metadata": {
    "collapsed": false
   },
   "outputs": [],
   "source": [
    "del df10_grouped['count_MED']\n",
    "del df11_grouped['count_MED']\n",
    "del df12_grouped['count_MED']\n",
    "del df13_grouped['count_MED']\n",
    "del df14_grouped['count_MED']"
   ]
  },
  {
   "cell_type": "markdown",
   "metadata": {},
   "source": [
    "####don't use below code - no need to save"
   ]
  },
  {
   "cell_type": "code",
   "execution_count": null,
   "metadata": {
    "collapsed": false
   },
   "outputs": [],
   "source": [
    "df10_grouped.to_csv(\"df10_grouped.csv\")\n",
    "df11_grouped.to_csv(\"df11_grouped.csv\")\n",
    "df12_grouped.to_csv(\"df12_grouped.csv\") \n",
    "df13_grouped.to_csv(\"df13_grouped.csv\")\n",
    "df14_grouped.to_csv(\"df14_grouped.csv\") "
   ]
  },
  {
   "cell_type": "code",
   "execution_count": 9,
   "metadata": {
    "collapsed": false
   },
   "outputs": [],
   "source": [
    "import geopandas as gp"
   ]
  },
  {
   "cell_type": "code",
   "execution_count": 10,
   "metadata": {
    "collapsed": false
   },
   "outputs": [],
   "source": [
    "boros = gp.GeoDataFrame.from_file(\"../nyct2010_15b/nyct2010.shp\")"
   ]
  },
  {
   "cell_type": "code",
   "execution_count": null,
   "metadata": {
    "collapsed": false
   },
   "outputs": [],
   "source": []
  },
  {
   "cell_type": "code",
   "execution_count": null,
   "metadata": {
    "collapsed": false
   },
   "outputs": [],
   "source": []
  },
  {
   "cell_type": "code",
   "execution_count": 120,
   "metadata": {
    "collapsed": false
   },
   "outputs": [],
   "source": [
    "result = pd.merge(df10_grouped, boros[['BoroName', 'CT2010', 'NTAName', 'Shape_Area', 'geometry']], \\\n",
    "                   left_on = ['SHP_BOROUGH', 'SHP_CENSUS_TRACT'], right_on = ['BoroName', 'CT2010'])\n"
   ]
  },
  {
   "cell_type": "code",
   "execution_count": null,
   "metadata": {
    "collapsed": false
   },
   "outputs": [],
   "source": []
  },
  {
   "cell_type": "code",
   "execution_count": 42,
   "metadata": {
    "collapsed": false
   },
   "outputs": [],
   "source": [
    "#gp.GeoDataFrame(result[result['PNATITL'] == 'OTHER SOCIAL ADVOCACY ORGANIZATIONS']).to_json()"
   ]
  },
  {
   "cell_type": "code",
   "execution_count": 44,
   "metadata": {
    "collapsed": false
   },
   "outputs": [],
   "source": [
    "# test = gp.GeoDataFrame.from_file('sweetgreen.geojson')\n",
    "# test.to_file(\"test\")"
   ]
  },
  {
   "cell_type": "markdown",
   "metadata": {},
   "source": [
    "####test drive"
   ]
  },
  {
   "cell_type": "code",
   "execution_count": 107,
   "metadata": {
    "collapsed": false
   },
   "outputs": [],
   "source": [
    "df = df10_grouped[df10_grouped['SICD'] == 'BEAUTY SALONS']"
   ]
  },
  {
   "cell_type": "code",
   "execution_count": 109,
   "metadata": {
    "collapsed": false
   },
   "outputs": [],
   "source": [
    "result = pd.merge(df, boros[['BoroName', 'CT2010', 'NTAName', 'Shape_Area', 'geometry']], \\\n",
    "                  left_on = ['SHP_BOROUGH', 'SHP_CENSUS_TRACT'], right_on = ['BoroName', 'CT2010'])\n",
    "del result['BoroName']\n",
    "del result['CT2010']"
   ]
  },
  {
   "cell_type": "code",
   "execution_count": 23,
   "metadata": {
    "collapsed": false
   },
   "outputs": [],
   "source": []
  },
  {
   "cell_type": "code",
   "execution_count": 142,
   "metadata": {
    "collapsed": false
   },
   "outputs": [],
   "source": [
    "cnt = len(PNATITL)\n",
    "base_loc = ''\n",
    "base_year_loc = base_loc + \"/\" + '2010'\n",
    "year_dir = os.listdir(base_year_loc)\n",
    "\n",
    "def createGeoJSON(pnatitl_loc, string2):\n",
    "    \n",
    "    \n",
    "    #pnatitl_loc = base_year_loc + \"/\" + string1\n",
    "    sicd_code = string2.replace(\"/\", \"-\") \n",
    "    \n",
    "    df = df10_grouped[df10_grouped['SICD'] == string2]\n",
    "    \n",
    "    result = pd.merge(df, boros[['BoroName', 'CT2010', 'NTAName', 'Shape_Area', 'geometry']], \\\n",
    "                  left_on = ['SHP_BOROUGH', 'SHP_CENSUS_TRACT'], right_on = ['BoroName', 'CT2010'])\n",
    "    \n",
    "    loc = pnatitl_loc + \"/\" + sicd_code + \".json\"\n",
    "    \n",
    "    with open(loc, 'wb') as fp:\n",
    "        json.dump(gp.GeoDataFrame(result).to_json(), fp)\n",
    "\n",
    "#gp.GeoDataFrame(result).to_json()"
   ]
  },
  {
   "cell_type": "code",
   "execution_count": 121,
   "metadata": {
    "collapsed": false
   },
   "outputs": [],
   "source": [
    "import json"
   ]
  },
  {
   "cell_type": "code",
   "execution_count": 122,
   "metadata": {
    "collapsed": false
   },
   "outputs": [],
   "source": [
    "createGeoJSON(\"AC REFRIGERATION & FORCED AIR HEATING\", \"AIR CONDITIONING ROOM UNITS-MFRS\")"
   ]
  },
  {
   "cell_type": "markdown",
   "metadata": {
    "collapsed": false
   },
   "source": [
    "####create directories "
   ]
  },
  {
   "cell_type": "code",
   "execution_count": 55,
   "metadata": {
    "collapsed": false
   },
   "outputs": [],
   "source": [
    "import os"
   ]
  },
  {
   "cell_type": "code",
   "execution_count": 56,
   "metadata": {
    "collapsed": true
   },
   "outputs": [],
   "source": [
    "mkdir geojson"
   ]
  },
  {
   "cell_type": "code",
   "execution_count": null,
   "metadata": {
    "collapsed": false
   },
   "outputs": [],
   "source": []
  },
  {
   "cell_type": "code",
   "execution_count": 48,
   "metadata": {
    "collapsed": true
   },
   "outputs": [],
   "source": [
    "YEARS = [2010, 2011, 2012, 2013, 2014]\n",
    "PNATITL = list(df10_grouped.groupby(['PNATITL', 'SICD']).agg('count').index.get_level_values(0))\n",
    "SICD = list(df10_grouped.groupby(['PNATITL', 'SICD']).agg('count').index.get_level_values(1))"
   ]
  },
  {
   "cell_type": "code",
   "execution_count": 61,
   "metadata": {
    "collapsed": false
   },
   "outputs": [
    {
     "name": "stdout",
     "output_type": "stream",
     "text": [
      "already created\n",
      "already created\n",
      "already created\n",
      "already created\n",
      "already created\n"
     ]
    }
   ],
   "source": [
    "for year in YEARS:\n",
    "    year_folder = str(year)\n",
    "    \n",
    "    if year_folder in os.listdir(base_dir):\n",
    "        print 'already created'\n",
    "    else:\n",
    "        add_year = base_dir + \"/\" + year_folder\n",
    "        os.mkdir(add_year)"
   ]
  },
  {
   "cell_type": "code",
   "execution_count": null,
   "metadata": {
    "collapsed": false
   },
   "outputs": [],
   "source": []
  },
  {
   "cell_type": "code",
   "execution_count": null,
   "metadata": {
    "collapsed": false
   },
   "outputs": [],
   "source": []
  },
  {
   "cell_type": "code",
   "execution_count": null,
   "metadata": {
    "collapsed": false
   },
   "outputs": [],
   "source": []
  },
  {
   "cell_type": "code",
   "execution_count": 92,
   "metadata": {
    "collapsed": false
   },
   "outputs": [],
   "source": [
    "apm = base_year_loc + \"/\" + \"ABRASIVE PROD MANUFACTURING\"\n",
    "ac = base_year_loc + \"/\"  + \"AC REFRIGERATION & FORCED AIR HEATING\"\n",
    "\n",
    "os.mkdir(apm)\n",
    "os.mkdir(ac)"
   ]
  },
  {
   "cell_type": "code",
   "execution_count": 146,
   "metadata": {
    "collapsed": false
   },
   "outputs": [],
   "source": [
    "cnt = len(PNATITL)\n",
    "base_loc = \n",
    "base_year_loc = base_loc + \"/\" + '2010'\n",
    "year_dir = os.listdir(base_year_loc)\n",
    "\n",
    "for index in range(cnt): \n",
    "    \n",
    "    year_dir = os.listdir(base_year_loc)\n",
    "    \n",
    "    pnatitl = PNATITL[index].replace(\"/\", \"-\")\n",
    "    sicd = SICD[index]\n",
    "    \n",
    "    if pnatitl not in year_dir: \n",
    "        \n",
    "        pnatitl_loc = base_year_loc + \"/\" + pnatitl\n",
    "        os.mkdir(pnatitl_loc)\n",
    "          \n",
    "        createGeoJSON(pnatitl_loc, sicd)\n",
    "\n",
    "    else:\n",
    "        pnatitl_loc = base_year_loc + \"/\" + pnatitl\n",
    "        createGeoJSON(pnatitl_loc, sicd)"
   ]
  },
  {
   "cell_type": "code",
   "execution_count": 136,
   "metadata": {
    "collapsed": false
   },
   "outputs": [],
   "source": [
    "# df10_grouped.groupby(['PNATITL', 'SICD']).agg('count').head(10)\n",
    "\n",
    "x = \"INTERNET PUBLISHING/BROADCASTING/WEB SEARCH PRTLS\""
   ]
  },
  {
   "cell_type": "code",
   "execution_count": 138,
   "metadata": {
    "collapsed": false
   },
   "outputs": [
    {
     "data": {
      "text/plain": [
       "'INTERNET PUBLISHING-BROADCASTING-WEB SEARCH PRTLS'"
      ]
     },
     "execution_count": 138,
     "metadata": {},
     "output_type": "execute_result"
    }
   ],
   "source": [
    "x.replace(\"/\", \"-\")"
   ]
  },
  {
   "cell_type": "code",
   "execution_count": null,
   "metadata": {
    "collapsed": false
   },
   "outputs": [],
   "source": []
  },
  {
   "cell_type": "code",
   "execution_count": 172,
   "metadata": {
    "collapsed": false
   },
   "outputs": [],
   "source": [
    "result = df10_grouped[df10_grouped['PNATITL'] == 'DIRECT MAIL ADVERTISING']\n"
   ]
  },
  {
   "cell_type": "code",
   "execution_count": 174,
   "metadata": {
    "collapsed": false
   },
   "outputs": [],
   "source": [
    "result1 = pd.merge(result, boros[['BoroName', 'CT2010', 'NTAName', 'Shape_Area', 'geometry']], \\\n",
    "                  left_on = ['SHP_BOROUGH', 'SHP_CENSUS_TRACT'], right_on = ['BoroName', 'CT2010'])"
   ]
  },
  {
   "cell_type": "code",
   "execution_count": 182,
   "metadata": {
    "collapsed": false
   },
   "outputs": [],
   "source": [
    "#gp.GeoDataFrame(result1).to_json()\n",
    "#result['SHP_CENSUS_TRACT'].value_counts()"
   ]
  },
  {
   "cell_type": "code",
   "execution_count": null,
   "metadata": {
    "collapsed": false
   },
   "outputs": [],
   "source": []
  },
  {
   "cell_type": "code",
   "execution_count": null,
   "metadata": {
    "collapsed": true
   },
   "outputs": [],
   "source": [
    "f"
   ]
  }
 ],
 "metadata": {
  "kernelspec": {
   "display_name": "Python 2",
   "language": "python",
   "name": "python2"
  },
  "language_info": {
   "codemirror_mode": {
    "name": "ipython",
    "version": 2
   },
   "file_extension": ".py",
   "mimetype": "text/x-python",
   "name": "python",
   "nbconvert_exporter": "python",
   "pygments_lexer": "ipython2",
   "version": "2.7.10"
  }
 },
 "nbformat": 4,
 "nbformat_minor": 0
}
