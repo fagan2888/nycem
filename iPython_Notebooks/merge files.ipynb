{
 "cells": [
  {
   "cell_type": "code",
   "execution_count": 36,
   "metadata": {
    "collapsed": true
   },
   "outputs": [],
   "source": [
    "import csv \n",
    "import os \n",
    "from zipcodes import pullzipcodes"
   ]
  },
  {
   "cell_type": "markdown",
   "metadata": {},
   "source": [
    "####import list of NYC only zipcodes to filter out RefUSA data"
   ]
  },
  {
   "cell_type": "code",
   "execution_count": 37,
   "metadata": {
    "collapsed": false
   },
   "outputs": [],
   "source": [
    "directory = os.environ['data_path']\n",
    "files = sorted(os.listdir(directory))\n",
    "df10 = directory + \"/\" + files[0]"
   ]
  },
  {
   "cell_type": "code",
   "execution_count": 38,
   "metadata": {
    "collapsed": false
   },
   "outputs": [
    {
     "data": {
      "text/plain": [
       "['Hist_Bus_2010.csv',\n",
       " 'Hist_Bus_2011.csv',\n",
       " 'Hist_Bus_2012.csv',\n",
       " 'Hist_Bus_2013.csv',\n",
       " 'Hist_Bus_2014.csv']"
      ]
     },
     "execution_count": 38,
     "metadata": {},
     "output_type": "execute_result"
    }
   ],
   "source": [
    "files"
   ]
  },
  {
   "cell_type": "code",
   "execution_count": 39,
   "metadata": {
    "collapsed": false
   },
   "outputs": [],
   "source": [
    "zips = pullzipcodes()"
   ]
  },
  {
   "cell_type": "markdown",
   "metadata": {},
   "source": [
    "####read RefUSA data and filter by zipcodes "
   ]
  },
  {
   "cell_type": "code",
   "execution_count": 40,
   "metadata": {
    "collapsed": true
   },
   "outputs": [],
   "source": [
    "import pandas as pd"
   ]
  },
  {
   "cell_type": "code",
   "execution_count": 41,
   "metadata": {
    "collapsed": false
   },
   "outputs": [],
   "source": [
    "ref10 = pd.read_csv(df10, dtype = {'ZIP': object, 'CENSUS_TRACT_2010': object, 'CENSUS_BG_2010': object})"
   ]
  },
  {
   "cell_type": "code",
   "execution_count": 42,
   "metadata": {
    "collapsed": false
   },
   "outputs": [],
   "source": [
    "ref10.b = ref10[ref10['ZIP'].isin(zips)]"
   ]
  },
  {
   "cell_type": "code",
   "execution_count": 30,
   "metadata": {
    "collapsed": false
   },
   "outputs": [
    {
     "data": {
      "text/plain": [
       "[('DeletionFlag', 'C', 1, 0),\n",
       " ['CB2010', 'C', 4, 0],\n",
       " ['BoroCode', 'C', 1, 0],\n",
       " ['BoroName', 'C', 32, 0],\n",
       " ['CT2010', 'C', 6, 0],\n",
       " ['BCTCB2010', 'C', 11, 0],\n",
       " ['Shape_Leng', 'F', 19, 11],\n",
       " ['Shape_Area', 'F', 19, 11]]"
      ]
     },
     "execution_count": 30,
     "metadata": {},
     "output_type": "execute_result"
    }
   ],
   "source": [
    "sf.fields"
   ]
  },
  {
   "cell_type": "code",
   "execution_count": 34,
   "metadata": {
    "collapsed": false
   },
   "outputs": [
    {
     "data": {
      "text/plain": [
       "[('DeletionFlag', 'C', 1, 0),\n",
       " ['CTLabel', 'C', 7, 0],\n",
       " ['BoroCode', 'C', 1, 0],\n",
       " ['BoroName', 'C', 32, 0],\n",
       " ['CT2010', 'C', 6, 0],\n",
       " ['BoroCT2010', 'C', 7, 0],\n",
       " ['CDEligibil', 'C', 1, 0],\n",
       " ['NTACode', 'C', 4, 0],\n",
       " ['NTAName', 'C', 75, 0],\n",
       " ['PUMA', 'C', 4, 0],\n",
       " ['Shape_Leng', 'F', 19, 11],\n",
       " ['Shape_Area', 'F', 19, 11]]"
      ]
     },
     "execution_count": 34,
     "metadata": {},
     "output_type": "execute_result"
    }
   ],
   "source": [
    "sf.fields"
   ]
  },
  {
   "cell_type": "code",
   "execution_count": 35,
   "metadata": {
    "collapsed": false
   },
   "outputs": [
    {
     "data": {
      "text/plain": [
       "['326',\n",
       " '2',\n",
       " 'Bronx',\n",
       " '032600',\n",
       " '2032600',\n",
       " 'I',\n",
       " 'BX31',\n",
       " 'Allerton-Pelham Gardens',\n",
       " '3704',\n",
       " '8.80039965477e+003',\n",
       " '3.56017830342e+006']"
      ]
     },
     "execution_count": 35,
     "metadata": {},
     "output_type": "execute_result"
    }
   ],
   "source": [
    "sf.record(494)"
   ]
  },
  {
   "cell_type": "markdown",
   "metadata": {},
   "source": [
    "####read Borough Boundary Files from NYC Pluto "
   ]
  },
  {
   "cell_type": "code",
   "execution_count": 43,
   "metadata": {
    "collapsed": true
   },
   "outputs": [],
   "source": [
    "import shapefile\n",
    "from pyproj import Proj, transform \n",
    "from rtree import index "
   ]
  },
  {
   "cell_type": "code",
   "execution_count": 46,
   "metadata": {
    "collapsed": false
   },
   "outputs": [],
   "source": [
    "#sf = shapefile.Reader(\"nybb_15b/nybb.shp\")\n",
    "sf = shapefile.Reader(\"nycb2010_15b/nycb2010.shp\")\n",
    "shapes = sf.shapes()"
   ]
  },
  {
   "cell_type": "code",
   "execution_count": 45,
   "metadata": {
    "collapsed": false
   },
   "outputs": [
    {
     "data": {
      "text/plain": [
       "['326',\n",
       " '2',\n",
       " 'Bronx',\n",
       " '032600',\n",
       " '2032600',\n",
       " 'I',\n",
       " 'BX31',\n",
       " 'Allerton-Pelham Gardens',\n",
       " '3704',\n",
       " '8.80039965477e+003',\n",
       " '3.56017830342e+006']"
      ]
     },
     "execution_count": 45,
     "metadata": {},
     "output_type": "execute_result"
    }
   ],
   "source": [
    "sf.record(494) \n",
    "#information - cb, boro, boro_name, cen_tract, boro+cb+ct, .. , .."
   ]
  },
  {
   "cell_type": "code",
   "execution_count": 11,
   "metadata": {
    "collapsed": false
   },
   "outputs": [
    {
     "data": {
      "text/plain": [
       "[('DeletionFlag', 'C', 1, 0),\n",
       " ['CB2010', 'C', 4, 0],\n",
       " ['BoroCode', 'C', 1, 0],\n",
       " ['BoroName', 'C', 32, 0],\n",
       " ['CT2010', 'C', 6, 0],\n",
       " ['BCTCB2010', 'C', 11, 0],\n",
       " ['Shape_Leng', 'F', 19, 11],\n",
       " ['Shape_Area', 'F', 19, 11]]"
      ]
     },
     "execution_count": 11,
     "metadata": {},
     "output_type": "execute_result"
    }
   ],
   "source": [
    "sf.fields"
   ]
  },
  {
   "cell_type": "code",
   "execution_count": 47,
   "metadata": {
    "collapsed": false
   },
   "outputs": [],
   "source": [
    "def convert(li):\n",
    "    f = 0.304800\n",
    "    inProj = Proj(init='epsg:2263')\n",
    "    outProj = Proj(init='epsg:4326')\n",
    "    x0,y0 = li[0]*f, li[1]*f\n",
    "    x1,y1 = li[2]*f, li[3]*f\n",
    "    \n",
    "    x2,y2 = transform(inProj,outProj,x0,y0)\n",
    "    x3,y3 = transform(inProj,outProj,x1,y1)\n",
    "    return (x2,y2,x3,y3)"
   ]
  },
  {
   "cell_type": "code",
   "execution_count": 48,
   "metadata": {
    "collapsed": false
   },
   "outputs": [
    {
     "data": {
      "text/plain": [
       "(-74.0823760429353, 40.64297065408437, -74.07914370756991, 40.64479304833291)"
      ]
     },
     "execution_count": 48,
     "metadata": {},
     "output_type": "execute_result"
    }
   ],
   "source": [
    "convert(shapes[0].bbox) # bbox provides bottom left and top right corners of any polygon "
   ]
  },
  {
   "cell_type": "code",
   "execution_count": null,
   "metadata": {
    "collapsed": false
   },
   "outputs": [],
   "source": []
  },
  {
   "cell_type": "markdown",
   "metadata": {},
   "source": [
    "####Build rtree"
   ]
  },
  {
   "cell_type": "code",
   "execution_count": 49,
   "metadata": {
    "collapsed": true
   },
   "outputs": [],
   "source": [
    "idx = index.Index()"
   ]
  },
  {
   "cell_type": "code",
   "execution_count": 50,
   "metadata": {
    "collapsed": false
   },
   "outputs": [],
   "source": [
    "loc = 0 \n",
    "for i in shapes:\n",
    "    corners = shapes[loc].bbox \n",
    "    left, bottom, right, top = convert(corners)\n",
    "    idx.insert(loc, (left, bottom, right, top))\n",
    "    loc += 1"
   ]
  },
  {
   "cell_type": "code",
   "execution_count": 51,
   "metadata": {
    "collapsed": true
   },
   "outputs": [],
   "source": [
    "def most_common(lst):\n",
    "    return max(lst, key=lst.count)"
   ]
  },
  {
   "cell_type": "markdown",
   "metadata": {},
   "source": [
    "####This function extracts the borough of a business"
   ]
  },
  {
   "cell_type": "code",
   "execution_count": 52,
   "metadata": {
    "collapsed": true
   },
   "outputs": [],
   "source": [
    "def findBorough(row):\n",
    "    a = row[\"LONGITUDE_2010\"]\n",
    "    b = row[\"LATITUDE_2010\"]\n",
    "    \n",
    "    if pd.isnull(a) == True: \n",
    "        return 'NA' \n",
    "    \n",
    "    else: \n",
    "        li = list(idx.intersection((a, b)))\n",
    "        if len(li) != 0:\n",
    "            li2 = [sf.record(ix)[2] for ix in li]\n",
    "            bor = most_common(li2)\n",
    "            return bor\n",
    "        else: \n",
    "            return 'NA'    "
   ]
  },
  {
   "cell_type": "markdown",
   "metadata": {},
   "source": [
    "####This function extracts the census tract of a business"
   ]
  },
  {
   "cell_type": "code",
   "execution_count": 53,
   "metadata": {
    "collapsed": true
   },
   "outputs": [],
   "source": [
    "def findCT(row):\n",
    "    a = row[\"LONGITUDE_2010\"]\n",
    "    b = row[\"LATITUDE_2010\"]\n",
    "    \n",
    "    if pd.isnull(a) == True: \n",
    "        return 'NA' \n",
    "    else:\n",
    "        li = list(idx.intersection((a, b)))\n",
    "        \n",
    "        if len(li) != 0:\n",
    "            li2 = [sf.record(ix)[3] for ix in li]\n",
    "            ct = most_common(li2)\n",
    "            return ct"
   ]
  },
  {
   "cell_type": "markdown",
   "metadata": {},
   "source": [
    "####This function extracts the census block of a business.  There are several values; we take the census block that occurs most in any list"
   ]
  },
  {
   "cell_type": "code",
   "execution_count": 54,
   "metadata": {
    "collapsed": true
   },
   "outputs": [],
   "source": [
    "def findCB(row):\n",
    "    a = row[\"LONGITUDE_2010\"]\n",
    "    b = row[\"LATITUDE_2010\"]\n",
    "    \n",
    "    if pd.isnull(a) == True: \n",
    "        return 'NA' \n",
    "    else:\n",
    "        li = list(idx.intersection((a, b)))\n",
    "        \n",
    "        if len(li) != 0:\n",
    "            li2 = [sf.record(ix)[0][0] for ix in li]\n",
    "            ct = most_common(li2)\n",
    "            return ct"
   ]
  },
  {
   "cell_type": "code",
   "execution_count": 55,
   "metadata": {
    "collapsed": true
   },
   "outputs": [],
   "source": [
    "pd.set_option('chained_assignment','warn')"
   ]
  },
  {
   "cell_type": "code",
   "execution_count": 23,
   "metadata": {
    "collapsed": false
   },
   "outputs": [
    {
     "name": "stderr",
     "output_type": "stream",
     "text": [
      "/opt/rh/anaconda/root/lib/python2.7/site-packages/IPython/kernel/__main__.py:1: SettingWithCopyWarning: \n",
      "A value is trying to be set on a copy of a slice from a DataFrame.\n",
      "Try using .loc[row_indexer,col_indexer] = value instead\n",
      "\n",
      "See the the caveats in the documentation: http://pandas.pydata.org/pandas-docs/stable/indexing.html#indexing-view-versus-copy\n",
      "  if __name__ == '__main__':\n"
     ]
    }
   ],
   "source": [
    "ref10.b['SHP_BOROUGH'] = ref10.b.apply(findBorough, axis=1)"
   ]
  },
  {
   "cell_type": "code",
   "execution_count": 24,
   "metadata": {
    "collapsed": false
   },
   "outputs": [
    {
     "name": "stderr",
     "output_type": "stream",
     "text": [
      "/opt/rh/anaconda/root/lib/python2.7/site-packages/IPython/kernel/__main__.py:1: SettingWithCopyWarning: \n",
      "A value is trying to be set on a copy of a slice from a DataFrame.\n",
      "Try using .loc[row_indexer,col_indexer] = value instead\n",
      "\n",
      "See the the caveats in the documentation: http://pandas.pydata.org/pandas-docs/stable/indexing.html#indexing-view-versus-copy\n",
      "  if __name__ == '__main__':\n"
     ]
    }
   ],
   "source": [
    "ref10.b['SHP_CENSUS_TRACT'] = ref10.b.apply(findCT, axis=1)"
   ]
  },
  {
   "cell_type": "code",
   "execution_count": 25,
   "metadata": {
    "collapsed": false
   },
   "outputs": [
    {
     "name": "stderr",
     "output_type": "stream",
     "text": [
      "/opt/rh/anaconda/root/lib/python2.7/site-packages/IPython/kernel/__main__.py:1: SettingWithCopyWarning: \n",
      "A value is trying to be set on a copy of a slice from a DataFrame.\n",
      "Try using .loc[row_indexer,col_indexer] = value instead\n",
      "\n",
      "See the the caveats in the documentation: http://pandas.pydata.org/pandas-docs/stable/indexing.html#indexing-view-versus-copy\n",
      "  if __name__ == '__main__':\n"
     ]
    }
   ],
   "source": [
    "ref10.b['SHP_CENSUS_BLOCK'] = ref10.b.apply(findCB, axis=1)"
   ]
  },
  {
   "cell_type": "code",
   "execution_count": 39,
   "metadata": {
    "collapsed": false
   },
   "outputs": [],
   "source": [
    "# testdf = ref10.b[['CENSUS_TRACT_2010', 'CENSUS_BG_2010', 'SHP_CENSUS_TRACT', 'SHP_CENSUS_BLOCK']]\n"
   ]
  },
  {
   "cell_type": "code",
   "execution_count": 40,
   "metadata": {
    "collapsed": false
   },
   "outputs": [],
   "source": [
    "# testdf['check'] = testdf['CENSUS_BG_2010'] == testdf['SHP_CENSUS_BLOCK']"
   ]
  },
  {
   "cell_type": "code",
   "execution_count": 41,
   "metadata": {
    "collapsed": false
   },
   "outputs": [],
   "source": [
    "# testdf['check'].value_counts()"
   ]
  },
  {
   "cell_type": "code",
   "execution_count": null,
   "metadata": {
    "collapsed": false
   },
   "outputs": [],
   "source": []
  },
  {
   "cell_type": "markdown",
   "metadata": {},
   "source": [
    "####read nys_acs data (contains New York, Richmond, Kings, Queens, and Bronx Counties) "
   ]
  },
  {
   "cell_type": "code",
   "execution_count": 57,
   "metadata": {
    "collapsed": true
   },
   "outputs": [],
   "source": [
    "acs = pd.read_csv(\"nys_mi.csv\", dtype = {'Geo_TRACT': object, 'Geo_BLKGRP': object, 'Geo_COUNTY': object})"
   ]
  },
  {
   "cell_type": "code",
   "execution_count": 58,
   "metadata": {
    "collapsed": false
   },
   "outputs": [],
   "source": [
    "counties = ['005', '047', '061', '081', '085']\n",
    "\n",
    "counties_dict = {'005': 'Bronx',\n",
    "                 '047': 'Brooklyn',\n",
    "                 '061': 'Manhattan',\n",
    "                 '081': 'Queens',\n",
    "                 '085': 'Staten Island'}\n",
    " \n",
    "acs.b = acs[acs['Geo_COUNTY'].isin(counties)][['Geo_NAME', 'Geo_COUNTY', 'Geo_TRACT', 'Geo_BLKGRP', 'SE_T057_001']]\n",
    "acs.b = acs.b.rename(columns = {'Geo_TRACT': 'SHP_CENSUS_TRACT', 'Geo_BLKGRP': 'SHP_CENSUS_BLOCK'})"
   ]
  },
  {
   "cell_type": "code",
   "execution_count": 44,
   "metadata": {
    "collapsed": true
   },
   "outputs": [],
   "source": [
    "def labelBorough(row):\n",
    "    boro = counties_dict[row['Geo_COUNTY']]\n",
    "    return boro"
   ]
  },
  {
   "cell_type": "code",
   "execution_count": 59,
   "metadata": {
    "collapsed": false
   },
   "outputs": [
    {
     "data": {
      "text/plain": [
       "15463"
      ]
     },
     "execution_count": 59,
     "metadata": {},
     "output_type": "execute_result"
    }
   ],
   "source": [
    "len(acs)"
   ]
  },
  {
   "cell_type": "code",
   "execution_count": 45,
   "metadata": {
    "collapsed": false
   },
   "outputs": [],
   "source": [
    "acs.b['SHP_BOROUGH'] = acs.b.apply(labelBorough, axis = 1)"
   ]
  },
  {
   "cell_type": "code",
   "execution_count": 80,
   "metadata": {
    "collapsed": false
   },
   "outputs": [
    {
     "data": {
      "text/html": [
       "<div style=\"max-height:1000px;max-width:1500px;overflow:auto;\">\n",
       "<table border=\"1\" class=\"dataframe\">\n",
       "  <thead>\n",
       "    <tr style=\"text-align: right;\">\n",
       "      <th></th>\n",
       "      <th>Geo_NAME</th>\n",
       "      <th>Geo_COUNTY</th>\n",
       "      <th>SHP_CENSUS_TRACT</th>\n",
       "      <th>SHP_CENSUS_BLOCK</th>\n",
       "      <th>SE_T057_001</th>\n",
       "    </tr>\n",
       "  </thead>\n",
       "  <tbody>\n",
       "    <tr>\n",
       "      <th>279</th>\n",
       "      <td>Block Group 0, Census Tract 1, Bronx County, N...</td>\n",
       "      <td>005</td>\n",
       "      <td>000100</td>\n",
       "      <td>0</td>\n",
       "      <td>NaN</td>\n",
       "    </tr>\n",
       "    <tr>\n",
       "      <th>280</th>\n",
       "      <td>Block Group 1, Census Tract 1, Bronx County, N...</td>\n",
       "      <td>005</td>\n",
       "      <td>000100</td>\n",
       "      <td>1</td>\n",
       "      <td>NaN</td>\n",
       "    </tr>\n",
       "    <tr>\n",
       "      <th>281</th>\n",
       "      <td>Block Group 0, Census Tract 2, Bronx County, N...</td>\n",
       "      <td>005</td>\n",
       "      <td>000200</td>\n",
       "      <td>0</td>\n",
       "      <td>NaN</td>\n",
       "    </tr>\n",
       "    <tr>\n",
       "      <th>282</th>\n",
       "      <td>Block Group 1, Census Tract 2, Bronx County, N...</td>\n",
       "      <td>005</td>\n",
       "      <td>000200</td>\n",
       "      <td>1</td>\n",
       "      <td>61779</td>\n",
       "    </tr>\n",
       "    <tr>\n",
       "      <th>283</th>\n",
       "      <td>Block Group 2, Census Tract 2, Bronx County, N...</td>\n",
       "      <td>005</td>\n",
       "      <td>000200</td>\n",
       "      <td>2</td>\n",
       "      <td>70603</td>\n",
       "    </tr>\n",
       "  </tbody>\n",
       "</table>\n",
       "</div>"
      ],
      "text/plain": [
       "                                              Geo_NAME Geo_COUNTY  \\\n",
       "279  Block Group 0, Census Tract 1, Bronx County, N...        005   \n",
       "280  Block Group 1, Census Tract 1, Bronx County, N...        005   \n",
       "281  Block Group 0, Census Tract 2, Bronx County, N...        005   \n",
       "282  Block Group 1, Census Tract 2, Bronx County, N...        005   \n",
       "283  Block Group 2, Census Tract 2, Bronx County, N...        005   \n",
       "\n",
       "    SHP_CENSUS_TRACT SHP_CENSUS_BLOCK  SE_T057_001  \n",
       "279           000100                0          NaN  \n",
       "280           000100                1          NaN  \n",
       "281           000200                0          NaN  \n",
       "282           000200                1        61779  \n",
       "283           000200                2        70603  "
      ]
     },
     "execution_count": 80,
     "metadata": {},
     "output_type": "execute_result"
    }
   ],
   "source": [
    "acs.b.head()"
   ]
  },
  {
   "cell_type": "code",
   "execution_count": null,
   "metadata": {
    "collapsed": true
   },
   "outputs": [],
   "source": []
  },
  {
   "cell_type": "markdown",
   "metadata": {},
   "source": [
    "####Merge Files "
   ]
  },
  {
   "cell_type": "code",
   "execution_count": 46,
   "metadata": {
    "collapsed": false
   },
   "outputs": [],
   "source": [
    "result = pd.merge(ref10.b, acs.b, how = 'inner', on = ['SHP_BOROUGH', 'SHP_CENSUS_TRACT','SHP_CENSUS_BLOCK'])"
   ]
  },
  {
   "cell_type": "markdown",
   "metadata": {},
   "source": [
    "####Append the LMI attribute "
   ]
  },
  {
   "cell_type": "markdown",
   "metadata": {},
   "source": [
    "##### The suggested threshold for LMI is a household income of $55,113"
   ]
  },
  {
   "cell_type": "code",
   "execution_count": 48,
   "metadata": {
    "collapsed": false
   },
   "outputs": [],
   "source": [
    "LMI_threshold = 55113 "
   ]
  },
  {
   "cell_type": "code",
   "execution_count": 49,
   "metadata": {
    "collapsed": false
   },
   "outputs": [],
   "source": [
    "def LMI(row):\n",
    "    return row['SE_T057_001'] < LMI_threshold"
   ]
  },
  {
   "cell_type": "code",
   "execution_count": 50,
   "metadata": {
    "collapsed": false
   },
   "outputs": [],
   "source": [
    "result['LMI'] = result.apply(LMI, axis = 1)"
   ]
  },
  {
   "cell_type": "code",
   "execution_count": 51,
   "metadata": {
    "collapsed": false
   },
   "outputs": [],
   "source": [
    "result.to_csv(\"Ref14_LMI.csv\")"
   ]
  },
  {
   "cell_type": "code",
   "execution_count": null,
   "metadata": {
    "collapsed": false
   },
   "outputs": [],
   "source": []
  },
  {
   "cell_type": "code",
   "execution_count": 97,
   "metadata": {
    "collapsed": false
   },
   "outputs": [],
   "source": [
    "test = [] \n",
    "for i, j in enumerate(range(len(shapes))):\n",
    "    var = sf.record(i)[4][:-3]\n",
    "    test.append(var)"
   ]
  },
  {
   "cell_type": "code",
   "execution_count": 99,
   "metadata": {
    "collapsed": false
   },
   "outputs": [
    {
     "data": {
      "text/plain": [
       "6373"
      ]
     },
     "execution_count": 99,
     "metadata": {},
     "output_type": "execute_result"
    }
   ],
   "source": [
    "len(set(test))"
   ]
  },
  {
   "cell_type": "code",
   "execution_count": 22,
   "metadata": {
    "collapsed": false
   },
   "outputs": [
    {
     "name": "stdout",
     "output_type": "stream",
     "text": [
      "\u001b[0m\u001b[38;5;27mgrouped_files\u001b[0m/      Ref10_LMI.csv  Ref12_LMI.csv  Ref14_LMI.csv\r\n",
      "GroupedFiles.ipynb  Ref11_LMI.csv  Ref13_LMI.csv\r\n",
      "\u001b[m"
     ]
    }
   ],
   "source": [
    "ls Ref_LMI"
   ]
  },
  {
   "cell_type": "code",
   "execution_count": 26,
   "metadata": {
    "collapsed": false
   },
   "outputs": [],
   "source": [
    "test = pd.read_csv(\"Ref_LMI/Ref10_LMI.csv\", index_col = 0)"
   ]
  },
  {
   "cell_type": "code",
   "execution_count": 28,
   "metadata": {
    "collapsed": false
   },
   "outputs": [
    {
     "data": {
      "text/plain": [
       "CONAME                                             TRITON SHIPPING INC\n",
       "ADDR                                                      1041 3RD AVE\n",
       "CITY                                                          NEW YORK\n",
       "STATE                                                               NY\n",
       "ZIP                                                              10065\n",
       "INDFRM                                                               2\n",
       "PRMSIC                                                          448903\n",
       "PRMSICD                                            STEAMSHIP COMPANIES\n",
       "PNACODE                                                   4.872101e+07\n",
       "PNATITL                      SCENIC & SIGHTSEEING TRANSPORTATION WATER\n",
       "EMPSDT                                                               4\n",
       "SLSVDT                                                             424\n",
       "HDBRCH                                                             NaN\n",
       "ABI                                                            6680995\n",
       "SUBNUM                                                               0\n",
       "ULTNUM                                                               0\n",
       "CENSUS_TRACT_2000                                                11000\n",
       "GE_CENSUS_BG_2000                                                    2\n",
       "CENSUS_TRACT_2010                                                11000\n",
       "CENSUS_BG_2010                                                       3\n",
       "LATITUDE_2010                                                 40.76309\n",
       "LONGITUDE_2010                                               -73.96531\n",
       "SHP_BOROUGH                                                  Manhattan\n",
       "SHP_CENSUS_TRACT                                                 11402\n",
       "SHP_CENSUS_BLOCK                                                     1\n",
       "Geo_NAME             Block Group 1, Census Tract 114.02, New York C...\n",
       "Geo_COUNTY                                                          61\n",
       "SE_T057_001                                                     148438\n",
       "LMI                                                              False\n",
       "Name: 1, dtype: object"
      ]
     },
     "execution_count": 28,
     "metadata": {},
     "output_type": "execute_result"
    }
   ],
   "source": [
    "test.ix[1]"
   ]
  },
  {
   "cell_type": "code",
   "execution_count": null,
   "metadata": {
    "collapsed": true
   },
   "outputs": [],
   "source": []
  },
  {
   "cell_type": "code",
   "execution_count": null,
   "metadata": {
    "collapsed": true
   },
   "outputs": [],
   "source": []
  },
  {
   "cell_type": "code",
   "execution_count": null,
   "metadata": {
    "collapsed": true
   },
   "outputs": [],
   "source": []
  }
 ],
 "metadata": {
  "kernelspec": {
   "display_name": "Python 2",
   "language": "python",
   "name": "python2"
  },
  "language_info": {
   "codemirror_mode": {
    "name": "ipython",
    "version": 2
   },
   "file_extension": ".py",
   "mimetype": "text/x-python",
   "name": "python",
   "nbconvert_exporter": "python",
   "pygments_lexer": "ipython2",
   "version": "2.7.10"
  }
 },
 "nbformat": 4,
 "nbformat_minor": 0
}
