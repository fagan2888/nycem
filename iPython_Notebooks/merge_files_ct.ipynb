{
 "cells": [
  {
   "cell_type": "code",
   "execution_count": 1,
   "metadata": {
    "collapsed": true
   },
   "outputs": [],
   "source": [
    "import csv \n",
    "import os \n",
    "from zipcodes import pullzipcodes"
   ]
  },
  {
   "cell_type": "code",
   "execution_count": 33,
   "metadata": {
    "collapsed": false
   },
   "outputs": [
    {
     "name": "stdout",
     "output_type": "stream",
     "text": [
      "\u001b[0m\u001b[38;5;27mgrouped_files\u001b[0m/      Ref10_LMI.csv  Ref12_LMI.csv  Ref14_LMI.csv\r\n",
      "GroupedFiles.ipynb  Ref11_LMI.csv  Ref13_LMI.csv\r\n",
      "\u001b[m"
     ]
    }
   ],
   "source": [
    "ls Ref_LMI/"
   ]
  },
  {
   "cell_type": "code",
   "execution_count": 113,
   "metadata": {
    "collapsed": true
   },
   "outputs": [],
   "source": [
    "files = [\"Ref10_LMI.csv\", \"Ref11_LMI.csv\", \"Ref12_LMI.csv\", \"Ref13_LMI.csv\", \"Ref14_LMI.csv\"]\n",
    "years = [2010, 2011, 2012, 2013, 2014]"
   ]
  },
  {
   "cell_type": "code",
   "execution_count": 114,
   "metadata": {
    "collapsed": false
   },
   "outputs": [],
   "source": [
    "folder = \"Ref_LMI/\"\n",
    "new_folder = \"new_Ref_LMI/\"\n",
    "idx = 0 \n",
    "for i in files: \n",
    "    loc = folder + i\n",
    "    ref10 = pd.read_csv(loc, \\\n",
    "                    index_col = 0, \\\n",
    "                    dtype = {\"SHP_CENSUS_TRACT\": object, \"Geo_COUNTY\": object, \"SHP_CENSUS_BLOCK\": object})\n",
    "    \n",
    "    result = pd.merge(ref10, acs.b[['SHP_CENSUS_TRACT', 'SE_T057_001', 'SHP_BOROUGH']], how = 'inner', on = ['SHP_BOROUGH', 'SHP_CENSUS_TRACT'])\n",
    "    result = result.rename(columns = {'SE_T057_001_x':'lmi_cb', 'SE_T057_001_y': 'lmi_ct'})\n",
    "    del result['LMI']\n",
    "    result.loc[:,(\"YEAR\")] = years[idx]\n",
    "    new_loc = new_folder + i\n",
    "    result.to_csv(new_loc )\n",
    "    idx += 1\n",
    "    "
   ]
  },
  {
   "cell_type": "code",
   "execution_count": null,
   "metadata": {
    "collapsed": false
   },
   "outputs": [],
   "source": []
  },
  {
   "cell_type": "code",
   "execution_count": null,
   "metadata": {
    "collapsed": false
   },
   "outputs": [],
   "source": []
  },
  {
   "cell_type": "markdown",
   "metadata": {},
   "source": [
    "#### Use ACS Data"
   ]
  },
  {
   "cell_type": "code",
   "execution_count": 4,
   "metadata": {
    "collapsed": true
   },
   "outputs": [],
   "source": [
    "import pandas as pd"
   ]
  },
  {
   "cell_type": "code",
   "execution_count": 18,
   "metadata": {
    "collapsed": false
   },
   "outputs": [
    {
     "name": "stdout",
     "output_type": "stream",
     "text": [
      "Geo_FIPS,Geo_GEOID,Geo_NAME,Geo_QName,Geo_STUSAB,Geo_SUMLEV,Geo_GEOCOMP,Geo_FILEID,Geo_LOGRECNO,Geo_US,Geo_REGION,Geo_DIVISION,Geo_STATECE,Geo_STATE,Geo_COUNTY,Geo_COUSUB,Geo_PLACE,Geo_PLACESE,Geo_TRACT,Geo_BLKGRP,Geo_CONCIT,Geo_AIANHH,Geo_AIANHHFP,Geo_AIHHTLI,Geo_AITSCE,Geo_AITS,Geo_ANRC,Geo_CBSA,Geo_CSA,Geo_METDIV,Geo_MACC,Geo_MEMI,Geo_NECTA,Geo_CNECTA,Geo_NECTADIV,Geo_UA,Geo_UACP,Geo_CDCURR,Geo_SLDU,Geo_SLDL,Geo_VTD,Geo_ZCTA3,Geo_ZCTA5,Geo_SUBMCD,Geo_SDELM,Geo_SDSEC,Geo_SDUNI,Geo_UR,Geo_PCI,Geo_TAZ,Geo_UGA,Geo_BTTR,Geo_BTBG,Geo_PUMA5,Geo_PUMA1,SE_T057_001\r",
      "\r\n",
      "\"36001000100\",\"14000US36001000100\",\"Census Tract 1, Albany County, New York\",\"Census Tract 1, Albany County, New York\",\"ny\",\"140\",\"00\",\"ACSSF\",\"0003385\",,,,,\"36\",\"001\",,,,\"000100\",,,,,,,,,,,,,,,,,,,,,,,,,,,,,,,,,,,,,35900\r",
      "\r\n",
      "\"36001000200\",\"14000US36001000200\",\"Census Tract 2, Albany County, New York\",\"Census Tract 2, Albany County, New York\",\"ny\",\"140\",\"00\",\"ACSSF\",\"0003386\",,,,,\"36\",\"001\",,,,\"000200\",,,,,,,,,,,,,,,,,,,,,,,,,,,,,,,,,,,,,20665\r",
      "\r\n",
      "\"36001000300\",\"14000US36001000300\",\"Census Tract 3, Albany County, New York\",\"Census Tract 3, Albany County, New York\",\"ny\",\"140\",\"00\",\"ACSSF\",\"0003387\",,,,,\"36\",\"001\",,,,\"000300\",,,,,,,,,,,,,,,,,,,,,,,,,,,,,,,,,,,,,35951\r",
      "\r\n",
      "\"36001000401\",\"14000US36001000401\",\"Census Tract 4.01, Albany County, New York\",\"Census Tract 4.01, Albany County, New York\",\"ny\",\"140\",\"00\",\"ACSSF\",\"0003388\",,,,,\"36\",\"001\",,,,\"000401\",,,,,,,,,,,,,,,,,,,,,,,,,,,,,,,,,,,,,71921\r",
      "\r\n",
      "\"36001000403\",\"14000US36001000403\",\"Census Tract 4.03, Albany County, New York\",\"Census Tract 4.03, Albany County, New York\",\"ny\",\"140\",\"00\",\"ACSSF\",\"0003389\",,,,,\"36\",\"001\",,,,\"000403\",,,,,,,,,,,,,,,,,,,,,,,,,,,,,,,,,,,,,50952\r",
      "\r\n",
      "\"36001000404\",\"14000US36001000404\",\"Census Tract 4.04, Albany County, New York\",\"Census Tract 4.04, Albany County, New York\",\"ny\",\"140\",\"00\",\"ACSSF\",\"0003390\",,,,,\"36\",\"001\",,,,\"000404\",,,,,,,,,,,,,,,,,,,,,,,,,,,,,,,,,,,,,\r",
      "\r\n",
      "\"36001000501\",\"14000US36001000501\",\"Census Tract 5.01, Albany County, New York\",\"Census Tract 5.01, Albany County, New York\",\"ny\",\"140\",\"00\",\"ACSSF\",\"0003391\",,,,,\"36\",\"001\",,,,\"000501\",,,,,,,,,,,,,,,,,,,,,,,,,,,,,,,,,,,,,26711\r",
      "\r\n",
      "\"36001000502\",\"14000US36001000502\",\"Census Tract 5.02, Albany County, New York\",\"Census Tract 5.02, Albany County, New York\",\"ny\",\"140\",\"00\",\"ACSSF\",\"0003392\",,,,,\"36\",\"001\",,,,\"000502\",,,,,,,,,,,,,,,,,,,,,,,,,,,,,,,,,,,,,45526\r",
      "\r\n",
      "\"36001000600\",\"14000US36001000600\",\"Census Tract 6, Albany County, New York\",\"Census Tract 6, Albany County, New York\",\"ny\",\"140\",\"00\",\"ACSSF\",\"0003393\",,,,,\"36\",\"001\",,,,\"000600\",,,,,,,,,,,,,,,,,,,,,,,,,,,,,,,,,,,,,19836\r",
      "\r\n",
      "cat: write error: Broken pipe\r\n"
     ]
    }
   ],
   "source": [
    "cat LMI_CT.csv | head"
   ]
  },
  {
   "cell_type": "code",
   "execution_count": 22,
   "metadata": {
    "collapsed": true
   },
   "outputs": [],
   "source": [
    "acs = pd.read_csv(\"LMI_CT.csv\", dtype = {'Geo_TRACT': object, 'Geo_BLKGRP': object, 'Geo_COUNTY': object})"
   ]
  },
  {
   "cell_type": "code",
   "execution_count": 23,
   "metadata": {
    "collapsed": false
   },
   "outputs": [],
   "source": [
    "counties = ['005', '047', '061', '081', '085']\n",
    "\n",
    "counties_dict = {'005': 'Bronx',\n",
    "                 '047': 'Brooklyn',\n",
    "                 '061': 'Manhattan',\n",
    "                 '081': 'Queens',\n",
    "                 '085': 'Staten Island'}"
   ]
  },
  {
   "cell_type": "code",
   "execution_count": 29,
   "metadata": {
    "collapsed": true
   },
   "outputs": [],
   "source": [
    "acs.b = acs[acs['Geo_COUNTY'].isin(counties)][['Geo_NAME', 'Geo_COUNTY', 'Geo_TRACT', 'SE_T057_001']]"
   ]
  },
  {
   "cell_type": "code",
   "execution_count": 47,
   "metadata": {
    "collapsed": false
   },
   "outputs": [],
   "source": [
    "def boroughName(row):\n",
    "    code = row['Geo_COUNTY']\n",
    "    return counties_dict[code]"
   ]
  },
  {
   "cell_type": "code",
   "execution_count": 52,
   "metadata": {
    "collapsed": false
   },
   "outputs": [],
   "source": [
    "acs.b.loc[:,(\"SHP_BOROUGH\")] = acs.b.apply(boroughName, axis=1)"
   ]
  },
  {
   "cell_type": "code",
   "execution_count": 67,
   "metadata": {
    "collapsed": false
   },
   "outputs": [],
   "source": [
    "def incomeMatch(row):\n",
    "    bor = row['Geo_COUNTY']\n",
    "    CT = row['SHP_CENSUS_TRACT']\n",
    "    value = acs.b[(acs.b['Geo_COUNTY'] == bor) & (acs.b['Geo_TRACT'] == CT)]['SE_T057_001']\n",
    "    return value "
   ]
  },
  {
   "cell_type": "code",
   "execution_count": 76,
   "metadata": {
    "collapsed": false
   },
   "outputs": [],
   "source": [
    "acs.b = acs.b.rename(columns = {'Geo_TRACT': \"SHP_CENSUS_TRACT\"})"
   ]
  },
  {
   "cell_type": "code",
   "execution_count": null,
   "metadata": {
    "collapsed": false
   },
   "outputs": [],
   "source": []
  },
  {
   "cell_type": "code",
   "execution_count": null,
   "metadata": {
    "collapsed": false
   },
   "outputs": [],
   "source": []
  },
  {
   "cell_type": "code",
   "execution_count": 96,
   "metadata": {
    "collapsed": false
   },
   "outputs": [],
   "source": []
  },
  {
   "cell_type": "code",
   "execution_count": 98,
   "metadata": {
    "collapsed": false,
    "scrolled": true
   },
   "outputs": [],
   "source": []
  },
  {
   "cell_type": "code",
   "execution_count": 101,
   "metadata": {
    "collapsed": false
   },
   "outputs": [],
   "source": []
  },
  {
   "cell_type": "code",
   "execution_count": null,
   "metadata": {
    "collapsed": false
   },
   "outputs": [],
   "source": []
  },
  {
   "cell_type": "code",
   "execution_count": null,
   "metadata": {
    "collapsed": false
   },
   "outputs": [],
   "source": []
  },
  {
   "cell_type": "code",
   "execution_count": null,
   "metadata": {
    "collapsed": true
   },
   "outputs": [],
   "source": []
  }
 ],
 "metadata": {
  "kernelspec": {
   "display_name": "Python 2",
   "language": "python",
   "name": "python2"
  },
  "language_info": {
   "codemirror_mode": {
    "name": "ipython",
    "version": 2
   },
   "file_extension": ".py",
   "mimetype": "text/x-python",
   "name": "python",
   "nbconvert_exporter": "python",
   "pygments_lexer": "ipython2",
   "version": "2.7.10"
  }
 },
 "nbformat": 4,
 "nbformat_minor": 0
}
