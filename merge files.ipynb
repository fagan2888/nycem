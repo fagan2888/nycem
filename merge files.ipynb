{
 "cells": [
  {
   "cell_type": "code",
   "execution_count": 95,
   "metadata": {
    "collapsed": true
   },
   "outputs": [],
   "source": [
    "import csv \n",
    "import os \n",
    "from zipcodes import pullzipcodes"
   ]
  },
  {
   "cell_type": "code",
   "execution_count": 96,
   "metadata": {
    "collapsed": false
   },
   "outputs": [],
   "source": [
    "directory = os.environ['data_path']\n",
    "files = sorted(os.listdir(directory))\n",
    "df10 = directory + \"/\" + files[0]"
   ]
  },
  {
   "cell_type": "code",
   "execution_count": 97,
   "metadata": {
    "collapsed": false
   },
   "outputs": [],
   "source": [
    "zips = pullzipcodes()"
   ]
  },
  {
   "cell_type": "markdown",
   "metadata": {},
   "source": [
    "####read RefUSA data and filter by zipcodes "
   ]
  },
  {
   "cell_type": "code",
   "execution_count": 98,
   "metadata": {
    "collapsed": true
   },
   "outputs": [],
   "source": [
    "import pandas as pd"
   ]
  },
  {
   "cell_type": "code",
   "execution_count": 99,
   "metadata": {
    "collapsed": false
   },
   "outputs": [],
   "source": [
    "ref10 = pd.read_csv(df10, dtype = {'ZIP': object, 'CENSUS_TRACT_2010': object, 'CENSUS_BG_2010': object})"
   ]
  },
  {
   "cell_type": "code",
   "execution_count": 100,
   "metadata": {
    "collapsed": false
   },
   "outputs": [],
   "source": [
    "ref10.b = ref10[ref10['ZIP'].isin(zips)]"
   ]
  },
  {
   "cell_type": "code",
   "execution_count": 93,
   "metadata": {
    "collapsed": false
   },
   "outputs": [],
   "source": [
    "# ref10.b['CENSUS_TRACT_2010']"
   ]
  },
  {
   "cell_type": "markdown",
   "metadata": {},
   "source": [
    "####read Borough Boundary Files from NYC Pluto "
   ]
  },
  {
   "cell_type": "code",
   "execution_count": 8,
   "metadata": {
    "collapsed": true
   },
   "outputs": [],
   "source": [
    "import shapefile\n",
    "from pyproj import Proj, transform \n",
    "from rtree import index "
   ]
  },
  {
   "cell_type": "code",
   "execution_count": 102,
   "metadata": {
    "collapsed": false
   },
   "outputs": [],
   "source": [
    "#sf = shapefile.Reader(\"nybb_15b/nybb.shp\")\n",
    "sf = shapefile.Reader(\"nycb2010_15b/nycb2010.shp\")\n",
    "shapes = sf.shapes()"
   ]
  },
  {
   "cell_type": "code",
   "execution_count": 105,
   "metadata": {
    "collapsed": false
   },
   "outputs": [
    {
     "data": {
      "text/plain": [
       "['1000',\n",
       " '5',\n",
       " 'Staten Island',\n",
       " '000900',\n",
       " '50009001000',\n",
       " '2.50894811457e+003',\n",
       " '2.44589603884e+005']"
      ]
     },
     "execution_count": 105,
     "metadata": {},
     "output_type": "execute_result"
    }
   ],
   "source": [
    "sf.record(0)\n"
   ]
  },
  {
   "cell_type": "code",
   "execution_count": 121,
   "metadata": {
    "collapsed": false
   },
   "outputs": [
    {
     "data": {
      "text/plain": [
       "[('DeletionFlag', 'C', 1, 0),\n",
       " ['CB2010', 'C', 4, 0],\n",
       " ['BoroCode', 'C', 1, 0],\n",
       " ['BoroName', 'C', 32, 0],\n",
       " ['CT2010', 'C', 6, 0],\n",
       " ['BCTCB2010', 'C', 11, 0],\n",
       " ['Shape_Leng', 'F', 19, 11],\n",
       " ['Shape_Area', 'F', 19, 11]]"
      ]
     },
     "execution_count": 121,
     "metadata": {},
     "output_type": "execute_result"
    }
   ],
   "source": [
    "sf.fields"
   ]
  },
  {
   "cell_type": "code",
   "execution_count": 12,
   "metadata": {
    "collapsed": false
   },
   "outputs": [],
   "source": [
    "# for i in range(5):\n",
    "#     print sf.record(i)\n",
    "def convert(li):\n",
    "    f = 0.304800\n",
    "    inProj = Proj(init='epsg:2263')\n",
    "    outProj = Proj(init='epsg:4326')\n",
    "    x0,y0 = li[0]*f, li[1]*f\n",
    "    x1,y1 = li[2]*f, li[3]*f\n",
    "    \n",
    "    x2,y2 = transform(inProj,outProj,x0,y0)\n",
    "    x3,y3 = transform(inProj,outProj,x1,y1)\n",
    "    return (x2,y2,x3,y3)"
   ]
  },
  {
   "cell_type": "code",
   "execution_count": 13,
   "metadata": {
    "collapsed": false
   },
   "outputs": [
    {
     "data": {
      "text/plain": [
       "(-74.08721257510494, 40.639801067600686, -74.0782078148904, 40.64479368862071)"
      ]
     },
     "execution_count": 13,
     "metadata": {},
     "output_type": "execute_result"
    }
   ],
   "source": [
    "convert(shapes[0].bbox)"
   ]
  },
  {
   "cell_type": "code",
   "execution_count": 14,
   "metadata": {
    "collapsed": false
   },
   "outputs": [
    {
     "name": "stdout",
     "output_type": "stream",
     "text": [
      "Staten Island (-74.08721257510494, 40.639801067600686, -74.0782078148904, 40.64479368862071)\n",
      "Staten Island (-74.12488226683051, 40.62304147709492, -74.11328569318664, 40.63267743930959)\n",
      "Staten Island (-74.12063933549183, 40.634299203971096, -74.11721051820307, 40.636953037688926)\n",
      "Staten Island (-74.13982129720739, 40.61278537625947, -74.13075780901775, 40.62038214872733)\n",
      "Staten Island (-74.07788994742751, 40.596729078367204, -74.06106795735421, 40.60618022554547)\n",
      "Staten Island (-74.08587722870362, 40.59215241304146, -74.07045220923452, 40.601947930425254)\n",
      "Staten Island (-74.07043853539568, 40.58898696783525, -74.05965284458874, 40.598936199958445)\n",
      "Staten Island (-74.13231400332512, 40.60815179961579, -74.12136466396817, 40.61307700429374)\n",
      "Manhattan (-73.98383138039888, 40.71993342489936, -73.97823722668416, 40.72266941649322)\n",
      "Manhattan (-73.98749853130087, 40.72267079443209, -73.97991324992839, 40.72817495451219)\n",
      "Manhattan (-73.98730893624536, 40.73754477531876, -73.98086640741731, 40.743323076806725)\n",
      "Manhattan (-74.00639163339484, 40.74225228539031, -73.9989794436368, 40.74702188180281)\n",
      "Manhattan (-73.98412500967258, 40.753480306876334, -73.97766152213978, 40.75926890426276)\n",
      "Manhattan (-73.97122504968353, 40.75324349642959, -73.96433156950471, 40.758327574884866)\n",
      "Manhattan (-73.97444634266192, 40.755192908851576, -73.96803088768361, 40.76093438336355)\n",
      "Manhattan (-73.97766243205177, 40.75655579681868, -73.97124935156661, 40.76229113640366)\n",
      "Manhattan (-73.98089327976085, 40.757910823963705, -73.97446394584695, 40.76364253991683)\n",
      "Manhattan (-73.97769360939417, 40.762292564372736, -73.97302146801785, 40.76567272603704)\n",
      "Manhattan (-73.97446498347314, 40.76093598923212, -73.9698068373796, 40.764276888221474)\n",
      "Manhattan (-73.9712505228051, 40.759577804539944, -73.96657792482293, 40.76291142989101)\n"
     ]
    }
   ],
   "source": [
    "for i, j in enumerate(sf.iterShapes()):\n",
    "    if i < 20:\n",
    "        print sf.record(i)[2], convert(j.bbox)\n",
    "    else:\n",
    "        break"
   ]
  },
  {
   "cell_type": "markdown",
   "metadata": {},
   "source": [
    "####Build rtree"
   ]
  },
  {
   "cell_type": "code",
   "execution_count": 106,
   "metadata": {
    "collapsed": true
   },
   "outputs": [],
   "source": [
    "idx = index.Index()"
   ]
  },
  {
   "cell_type": "code",
   "execution_count": 107,
   "metadata": {
    "collapsed": false
   },
   "outputs": [],
   "source": [
    "loc = 0 \n",
    "for i in shapes:\n",
    "    corners = shapes[loc].bbox \n",
    "    left, bottom, right, top = convert(corners)\n",
    "    idx.insert(loc, (left, bottom, right, top))\n",
    "    loc += 1"
   ]
  },
  {
   "cell_type": "code",
   "execution_count": null,
   "metadata": {
    "collapsed": true
   },
   "outputs": [],
   "source": [
    "def most_common(lst):\n",
    "    return max(lst, key=lst.count)"
   ]
  },
  {
   "cell_type": "code",
   "execution_count": 76,
   "metadata": {
    "collapsed": true
   },
   "outputs": [],
   "source": [
    "def findBorough(row):\n",
    "    a = row[\"LONGITUDE_2010\"]\n",
    "    b = row[\"LATITUDE_2010\"]\n",
    "    \n",
    "    if pd.isnull(a) == True: \n",
    "        return 'NA' \n",
    "    \n",
    "    else: \n",
    "        li = list(idx.intersection((a, b)))\n",
    "        if len(li) != 0:\n",
    "            li2 = [sf.record(ix)[2] for ix in li]\n",
    "            bor = most_common(li2)\n",
    "            return bor\n",
    "        else: \n",
    "            return 'NA'\n",
    "        "
   ]
  },
  {
   "cell_type": "code",
   "execution_count": 125,
   "metadata": {
    "collapsed": true
   },
   "outputs": [],
   "source": [
    "def findCT(row):\n",
    "    a = row[\"LONGITUDE_2010\"]\n",
    "    b = row[\"LATITUDE_2010\"]\n",
    "    \n",
    "    if pd.isnull(a) == True: \n",
    "        return 'NA' \n",
    "    else:\n",
    "        li = list(idx.intersection((a, b)))\n",
    "        \n",
    "        if len(li) != 0:\n",
    "            li2 = [sf.record(ix)[3] for ix in li]\n",
    "            ct = most_common(li2)\n",
    "            return ct"
   ]
  },
  {
   "cell_type": "code",
   "execution_count": 141,
   "metadata": {
    "collapsed": true
   },
   "outputs": [],
   "source": [
    "def findCB(row):\n",
    "    a = row[\"LONGITUDE_2010\"]\n",
    "    b = row[\"LATITUDE_2010\"]\n",
    "    \n",
    "    if pd.isnull(a) == True: \n",
    "        return 'NA' \n",
    "    else:\n",
    "        li = list(idx.intersection((a, b)))\n",
    "        \n",
    "        if len(li) != 0:\n",
    "            li2 = [sf.record(ix)[0][0] for ix in li]\n",
    "            ct = most_common(li2)\n",
    "            return ct"
   ]
  },
  {
   "cell_type": "code",
   "execution_count": 123,
   "metadata": {
    "collapsed": false
   },
   "outputs": [
    {
     "name": "stderr",
     "output_type": "stream",
     "text": [
      "/opt/rh/anaconda/root/lib/python2.7/site-packages/IPython/kernel/__main__.py:1: SettingWithCopyWarning: \n",
      "A value is trying to be set on a copy of a slice from a DataFrame.\n",
      "Try using .loc[row_indexer,col_indexer] = value instead\n",
      "\n",
      "See the the caveats in the documentation: http://pandas.pydata.org/pandas-docs/stable/indexing.html#indexing-view-versus-copy\n",
      "  if __name__ == '__main__':\n"
     ]
    }
   ],
   "source": [
    "ref10.b['SHP_BOROUGH'] = ref10.b.apply(findBorough, axis=1)"
   ]
  },
  {
   "cell_type": "code",
   "execution_count": 126,
   "metadata": {
    "collapsed": false
   },
   "outputs": [
    {
     "name": "stderr",
     "output_type": "stream",
     "text": [
      "/opt/rh/anaconda/root/lib/python2.7/site-packages/IPython/kernel/__main__.py:1: SettingWithCopyWarning: \n",
      "A value is trying to be set on a copy of a slice from a DataFrame.\n",
      "Try using .loc[row_indexer,col_indexer] = value instead\n",
      "\n",
      "See the the caveats in the documentation: http://pandas.pydata.org/pandas-docs/stable/indexing.html#indexing-view-versus-copy\n",
      "  if __name__ == '__main__':\n"
     ]
    }
   ],
   "source": [
    "ref10.b['SHP_CENSUS_TRACT'] = ref10.b.apply(findCT, axis=1)"
   ]
  },
  {
   "cell_type": "code",
   "execution_count": 142,
   "metadata": {
    "collapsed": false
   },
   "outputs": [
    {
     "name": "stderr",
     "output_type": "stream",
     "text": [
      "/opt/rh/anaconda/root/lib/python2.7/site-packages/IPython/kernel/__main__.py:1: SettingWithCopyWarning: \n",
      "A value is trying to be set on a copy of a slice from a DataFrame.\n",
      "Try using .loc[row_indexer,col_indexer] = value instead\n",
      "\n",
      "See the the caveats in the documentation: http://pandas.pydata.org/pandas-docs/stable/indexing.html#indexing-view-versus-copy\n",
      "  if __name__ == '__main__':\n"
     ]
    }
   ],
   "source": [
    "ref10.b['SHP_CENSUS_BLOCK'] = ref10.b.apply(findCB, axis=1)"
   ]
  },
  {
   "cell_type": "code",
   "execution_count": null,
   "metadata": {
    "collapsed": false
   },
   "outputs": [],
   "source": []
  },
  {
   "cell_type": "code",
   "execution_count": null,
   "metadata": {
    "collapsed": false
   },
   "outputs": [],
   "source": []
  },
  {
   "cell_type": "code",
   "execution_count": null,
   "metadata": {
    "collapsed": false
   },
   "outputs": [],
   "source": []
  },
  {
   "cell_type": "code",
   "execution_count": null,
   "metadata": {
    "collapsed": false
   },
   "outputs": [],
   "source": []
  },
  {
   "cell_type": "code",
   "execution_count": null,
   "metadata": {
    "collapsed": false
   },
   "outputs": [],
   "source": []
  },
  {
   "cell_type": "code",
   "execution_count": null,
   "metadata": {
    "collapsed": false
   },
   "outputs": [],
   "source": []
  },
  {
   "cell_type": "code",
   "execution_count": 176,
   "metadata": {
    "collapsed": false
   },
   "outputs": [],
   "source": []
  },
  {
   "cell_type": "code",
   "execution_count": null,
   "metadata": {
    "collapsed": false
   },
   "outputs": [],
   "source": []
  },
  {
   "cell_type": "code",
   "execution_count": null,
   "metadata": {
    "collapsed": false
   },
   "outputs": [],
   "source": []
  },
  {
   "cell_type": "code",
   "execution_count": 181,
   "metadata": {
    "collapsed": false
   },
   "outputs": [
    {
     "name": "stdout",
     "output_type": "stream",
     "text": [
      "['1000', '8000']\n",
      "['6001']\n",
      "['2000', '1004', '1000']\n",
      "['1001', '3000']\n",
      "['3002', '3001', '3000']\n",
      "['4000', '6001', '5001']\n",
      "['3002', '3001']\n",
      "['3001', '3000']\n",
      "['3002', '3001', '6000']\n",
      "['1000', '2000']\n",
      "['3001', '3000']\n",
      "['3001', '3000']\n",
      "['2002', '1000']\n",
      "['1001', '3000']\n",
      "['4000', '6001', '5001']\n",
      "['2000', '1000']\n",
      "['3001', '3000']\n",
      "['3001', '3000']\n",
      "['4000', '6001', '5001']\n",
      "['3002', '6000']\n"
     ]
    }
   ],
   "source": [
    "# # for i in range(20):\n",
    "# #     li = list(idx.intersection((b[i], a[i])))\n",
    "# #     li2 = [sf.record(ix)[2] for ix in li]\n",
    "# #     print most_common(li2)\n",
    "\n",
    "# for i in range(20):\n",
    "#     li = list(idx.intersection((b[i], a[i])))\n",
    "#     print [sf.record(ix)[0] for ix in li]"
   ]
  },
  {
   "cell_type": "code",
   "execution_count": null,
   "metadata": {
    "collapsed": false
   },
   "outputs": [],
   "source": []
  },
  {
   "cell_type": "code",
   "execution_count": null,
   "metadata": {
    "collapsed": false
   },
   "outputs": [],
   "source": []
  },
  {
   "cell_type": "code",
   "execution_count": null,
   "metadata": {
    "collapsed": false
   },
   "outputs": [],
   "source": []
  },
  {
   "cell_type": "markdown",
   "metadata": {},
   "source": [
    "####read nys_acs data (contains New York, Richmond, Kings, Queens, and Bronx Counties) "
   ]
  },
  {
   "cell_type": "code",
   "execution_count": 186,
   "metadata": {
    "collapsed": true
   },
   "outputs": [],
   "source": [
    "acs = pd.read_csv(\"nys_mi.csv\", dtype = {'Geo_TRACT': object, 'Geo_BLKGRP': object, 'Geo_COUNTY': object})"
   ]
  },
  {
   "cell_type": "code",
   "execution_count": 190,
   "metadata": {
    "collapsed": false
   },
   "outputs": [],
   "source": [
    "counties = ['005', '047', '061', '081', '085']\n",
    "#bronx 5 \n",
    "#kings 47 \n",
    "#New York 61 \n",
    "#Queens 81\n",
    "#Richmond 85 \n",
    "acs.b = acs[acs['Geo_COUNTY'].isin(counties)][['Geo_NAME', 'Geo_COUNTY', 'Geo_TRACT', 'Geo_BLKGRP', 'SE_T057_001']]"
   ]
  },
  {
   "cell_type": "code",
   "execution_count": 199,
   "metadata": {
    "collapsed": false
   },
   "outputs": [
    {
     "data": {
      "text/plain": [
       "False    6193\n",
       "True      300\n",
       "dtype: int64"
      ]
     },
     "execution_count": 199,
     "metadata": {},
     "output_type": "execute_result"
    }
   ],
   "source": [
    "acs.b.iloc[:,4].isnull().value_counts()"
   ]
  },
  {
   "cell_type": "code",
   "execution_count": null,
   "metadata": {
    "collapsed": true
   },
   "outputs": [],
   "source": []
  },
  {
   "cell_type": "code",
   "execution_count": null,
   "metadata": {
    "collapsed": true
   },
   "outputs": [],
   "source": []
  },
  {
   "cell_type": "markdown",
   "metadata": {},
   "source": [
    "####filter RefUSA data"
   ]
  },
  {
   "cell_type": "code",
   "execution_count": 66,
   "metadata": {
    "collapsed": false
   },
   "outputs": [
    {
     "data": {
      "text/html": [
       "<div style=\"max-height:1000px;max-width:1500px;overflow:auto;\">\n",
       "<table border=\"1\" class=\"dataframe\">\n",
       "  <thead>\n",
       "    <tr style=\"text-align: right;\">\n",
       "      <th></th>\n",
       "      <th>Geo_FIPS</th>\n",
       "      <th>Geo_GEOID</th>\n",
       "      <th>Geo_NAME</th>\n",
       "      <th>Geo_QName</th>\n",
       "      <th>Geo_STUSAB</th>\n",
       "      <th>Geo_SUMLEV</th>\n",
       "      <th>Geo_GEOCOMP</th>\n",
       "      <th>Geo_FILEID</th>\n",
       "      <th>Geo_LOGRECNO</th>\n",
       "      <th>Geo_US</th>\n",
       "      <th>...</th>\n",
       "      <th>Geo_SDUNI</th>\n",
       "      <th>Geo_UR</th>\n",
       "      <th>Geo_PCI</th>\n",
       "      <th>Geo_TAZ</th>\n",
       "      <th>Geo_UGA</th>\n",
       "      <th>Geo_BTTR</th>\n",
       "      <th>Geo_BTBG</th>\n",
       "      <th>Geo_PUMA5</th>\n",
       "      <th>Geo_PUMA1</th>\n",
       "      <th>SE_T057_001</th>\n",
       "    </tr>\n",
       "  </thead>\n",
       "  <tbody>\n",
       "    <tr>\n",
       "      <th>4360</th>\n",
       "      <td>360470267002</td>\n",
       "      <td>15000US360470267002</td>\n",
       "      <td>Block Group 2, Census Tract 267, Kings County,...</td>\n",
       "      <td>Block Group 2, Census Tract 267, Kings County,...</td>\n",
       "      <td>ny</td>\n",
       "      <td>150</td>\n",
       "      <td>0</td>\n",
       "      <td>ACSSF</td>\n",
       "      <td>12663</td>\n",
       "      <td>NaN</td>\n",
       "      <td>...</td>\n",
       "      <td>NaN</td>\n",
       "      <td>NaN</td>\n",
       "      <td>NaN</td>\n",
       "      <td>NaN</td>\n",
       "      <td>NaN</td>\n",
       "      <td>NaN</td>\n",
       "      <td>NaN</td>\n",
       "      <td>NaN</td>\n",
       "      <td>NaN</td>\n",
       "      <td>47989</td>\n",
       "    </tr>\n",
       "    <tr>\n",
       "      <th>10676</th>\n",
       "      <td>360810267002</td>\n",
       "      <td>15000US360810267002</td>\n",
       "      <td>Block Group 2, Census Tract 267, Queens County...</td>\n",
       "      <td>Block Group 2, Census Tract 267, Queens County...</td>\n",
       "      <td>ny</td>\n",
       "      <td>150</td>\n",
       "      <td>0</td>\n",
       "      <td>ACSSF</td>\n",
       "      <td>18979</td>\n",
       "      <td>NaN</td>\n",
       "      <td>...</td>\n",
       "      <td>NaN</td>\n",
       "      <td>NaN</td>\n",
       "      <td>NaN</td>\n",
       "      <td>NaN</td>\n",
       "      <td>NaN</td>\n",
       "      <td>NaN</td>\n",
       "      <td>NaN</td>\n",
       "      <td>NaN</td>\n",
       "      <td>NaN</td>\n",
       "      <td>55729</td>\n",
       "    </tr>\n",
       "  </tbody>\n",
       "</table>\n",
       "<p>2 rows × 56 columns</p>\n",
       "</div>"
      ],
      "text/plain": [
       "           Geo_FIPS            Geo_GEOID  \\\n",
       "4360   360470267002  15000US360470267002   \n",
       "10676  360810267002  15000US360810267002   \n",
       "\n",
       "                                                Geo_NAME  \\\n",
       "4360   Block Group 2, Census Tract 267, Kings County,...   \n",
       "10676  Block Group 2, Census Tract 267, Queens County...   \n",
       "\n",
       "                                               Geo_QName Geo_STUSAB  \\\n",
       "4360   Block Group 2, Census Tract 267, Kings County,...         ny   \n",
       "10676  Block Group 2, Census Tract 267, Queens County...         ny   \n",
       "\n",
       "       Geo_SUMLEV  Geo_GEOCOMP Geo_FILEID  Geo_LOGRECNO  Geo_US     ...      \\\n",
       "4360          150            0      ACSSF         12663     NaN     ...       \n",
       "10676         150            0      ACSSF         18979     NaN     ...       \n",
       "\n",
       "       Geo_SDUNI  Geo_UR  Geo_PCI  Geo_TAZ Geo_UGA  Geo_BTTR  Geo_BTBG  \\\n",
       "4360         NaN     NaN      NaN      NaN     NaN       NaN       NaN   \n",
       "10676        NaN     NaN      NaN      NaN     NaN       NaN       NaN   \n",
       "\n",
       "       Geo_PUMA5 Geo_PUMA1 SE_T057_001  \n",
       "4360         NaN       NaN       47989  \n",
       "10676        NaN       NaN       55729  \n",
       "\n",
       "[2 rows x 56 columns]"
      ]
     },
     "execution_count": 66,
     "metadata": {},
     "output_type": "execute_result"
    }
   ],
   "source": [
    "acs.b[(acs.b['Geo_TRACT'] == '026700') & (acs.b['Geo_BLKGRP'] == '2')]"
   ]
  },
  {
   "cell_type": "code",
   "execution_count": null,
   "metadata": {
    "collapsed": true
   },
   "outputs": [],
   "source": []
  }
 ],
 "metadata": {
  "kernelspec": {
   "display_name": "Python 2",
   "language": "python",
   "name": "python2"
  },
  "language_info": {
   "codemirror_mode": {
    "name": "ipython",
    "version": 2
   },
   "file_extension": ".py",
   "mimetype": "text/x-python",
   "name": "python",
   "nbconvert_exporter": "python",
   "pygments_lexer": "ipython2",
   "version": "2.7.9"
  }
 },
 "nbformat": 4,
 "nbformat_minor": 0
}
