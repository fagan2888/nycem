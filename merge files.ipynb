{
 "cells": [
  {
   "cell_type": "code",
   "execution_count": 1,
   "metadata": {
    "collapsed": true
   },
   "outputs": [],
   "source": [
    "import csv \n",
    "import os \n",
    "from zipcodes import pullzipcodes"
   ]
  },
  {
   "cell_type": "markdown",
   "metadata": {},
   "source": [
    "####import list of NYC only zipcodes to filter out RefUSA data"
   ]
  },
  {
   "cell_type": "code",
   "execution_count": 234,
   "metadata": {
    "collapsed": false
   },
   "outputs": [],
   "source": [
    "directory = os.environ['data_path']\n",
    "files = sorted(os.listdir(directory))\n",
    "df10 = directory + \"/\" + files[4]"
   ]
  },
  {
   "cell_type": "code",
   "execution_count": 212,
   "metadata": {
    "collapsed": false
   },
   "outputs": [
    {
     "data": {
      "text/plain": [
       "['Hist_Bus_2010.csv',\n",
       " 'Hist_Bus_2011.csv',\n",
       " 'Hist_Bus_2012.csv',\n",
       " 'Hist_Bus_2013.csv',\n",
       " 'Hist_Bus_2014.csv']"
      ]
     },
     "execution_count": 212,
     "metadata": {},
     "output_type": "execute_result"
    }
   ],
   "source": [
    "files"
   ]
  },
  {
   "cell_type": "code",
   "execution_count": 195,
   "metadata": {
    "collapsed": false
   },
   "outputs": [],
   "source": [
    "zips = pullzipcodes()"
   ]
  },
  {
   "cell_type": "markdown",
   "metadata": {},
   "source": [
    "####read RefUSA data and filter by zipcodes "
   ]
  },
  {
   "cell_type": "code",
   "execution_count": 196,
   "metadata": {
    "collapsed": true
   },
   "outputs": [],
   "source": [
    "import pandas as pd"
   ]
  },
  {
   "cell_type": "code",
   "execution_count": 235,
   "metadata": {
    "collapsed": false
   },
   "outputs": [],
   "source": [
    "ref10 = pd.read_csv(df10, dtype = {'ZIP': object, 'CENSUS_TRACT_2010': object, 'CENSUS_BG_2010': object})"
   ]
  },
  {
   "cell_type": "code",
   "execution_count": 236,
   "metadata": {
    "collapsed": false
   },
   "outputs": [],
   "source": [
    "ref10.b = ref10[ref10['ZIP'].isin(zips)]"
   ]
  },
  {
   "cell_type": "code",
   "execution_count": 93,
   "metadata": {
    "collapsed": false
   },
   "outputs": [],
   "source": [
    "# ref10.b['CENSUS_TRACT_2010']"
   ]
  },
  {
   "cell_type": "markdown",
   "metadata": {},
   "source": [
    "####read Borough Boundary Files from NYC Pluto "
   ]
  },
  {
   "cell_type": "code",
   "execution_count": 7,
   "metadata": {
    "collapsed": true
   },
   "outputs": [],
   "source": [
    "import shapefile\n",
    "from pyproj import Proj, transform \n",
    "from rtree import index "
   ]
  },
  {
   "cell_type": "code",
   "execution_count": 8,
   "metadata": {
    "collapsed": false
   },
   "outputs": [],
   "source": [
    "#sf = shapefile.Reader(\"nybb_15b/nybb.shp\")\n",
    "sf = shapefile.Reader(\"nycb2010_15b/nycb2010.shp\")\n",
    "shapes = sf.shapes()"
   ]
  },
  {
   "cell_type": "code",
   "execution_count": 9,
   "metadata": {
    "collapsed": false
   },
   "outputs": [
    {
     "data": {
      "text/plain": [
       "['1000',\n",
       " '5',\n",
       " 'Staten Island',\n",
       " '000900',\n",
       " '50009001000',\n",
       " '2.50894811457e+003',\n",
       " '2.44589603884e+005']"
      ]
     },
     "execution_count": 9,
     "metadata": {},
     "output_type": "execute_result"
    }
   ],
   "source": [
    "sf.record(0) \n",
    "#information - cb, boro, boro_name, cen_tract, boro+cb+ct, .. , .."
   ]
  },
  {
   "cell_type": "code",
   "execution_count": 10,
   "metadata": {
    "collapsed": false
   },
   "outputs": [
    {
     "data": {
      "text/plain": [
       "[('DeletionFlag', 'C', 1, 0),\n",
       " ['CB2010', 'C', 4, 0],\n",
       " ['BoroCode', 'C', 1, 0],\n",
       " ['BoroName', 'C', 32, 0],\n",
       " ['CT2010', 'C', 6, 0],\n",
       " ['BCTCB2010', 'C', 11, 0],\n",
       " ['Shape_Leng', 'F', 19, 11],\n",
       " ['Shape_Area', 'F', 19, 11]]"
      ]
     },
     "execution_count": 10,
     "metadata": {},
     "output_type": "execute_result"
    }
   ],
   "source": [
    "sf.fields"
   ]
  },
  {
   "cell_type": "code",
   "execution_count": 11,
   "metadata": {
    "collapsed": false
   },
   "outputs": [],
   "source": [
    "# for i in range(5):\n",
    "#     print sf.record(i)\n",
    "def convert(li):\n",
    "    f = 0.304800\n",
    "    inProj = Proj(init='epsg:2263')\n",
    "    outProj = Proj(init='epsg:4326')\n",
    "    x0,y0 = li[0]*f, li[1]*f\n",
    "    x1,y1 = li[2]*f, li[3]*f\n",
    "    \n",
    "    x2,y2 = transform(inProj,outProj,x0,y0)\n",
    "    x3,y3 = transform(inProj,outProj,x1,y1)\n",
    "    return (x2,y2,x3,y3)"
   ]
  },
  {
   "cell_type": "code",
   "execution_count": 12,
   "metadata": {
    "collapsed": false
   },
   "outputs": [
    {
     "data": {
      "text/plain": [
       "(-74.0823760429353, 40.64297065408437, -74.07914370756991, 40.64479304833291)"
      ]
     },
     "execution_count": 12,
     "metadata": {},
     "output_type": "execute_result"
    }
   ],
   "source": [
    "convert(shapes[0].bbox) # bbox provides bottom left and top right corners of any polygon "
   ]
  },
  {
   "cell_type": "code",
   "execution_count": null,
   "metadata": {
    "collapsed": false
   },
   "outputs": [],
   "source": []
  },
  {
   "cell_type": "markdown",
   "metadata": {},
   "source": [
    "####Build rtree"
   ]
  },
  {
   "cell_type": "code",
   "execution_count": 21,
   "metadata": {
    "collapsed": true
   },
   "outputs": [],
   "source": [
    "idx = index.Index()"
   ]
  },
  {
   "cell_type": "code",
   "execution_count": 22,
   "metadata": {
    "collapsed": false
   },
   "outputs": [],
   "source": [
    "loc = 0 \n",
    "for i in shapes:\n",
    "    corners = shapes[loc].bbox \n",
    "    left, bottom, right, top = convert(corners)\n",
    "    idx.insert(loc, (left, bottom, right, top))\n",
    "    loc += 1"
   ]
  },
  {
   "cell_type": "code",
   "execution_count": 25,
   "metadata": {
    "collapsed": true
   },
   "outputs": [],
   "source": [
    "def most_common(lst):\n",
    "    return max(lst, key=lst.count)"
   ]
  },
  {
   "cell_type": "markdown",
   "metadata": {},
   "source": [
    "####This function extracts the borough of a business"
   ]
  },
  {
   "cell_type": "code",
   "execution_count": 28,
   "metadata": {
    "collapsed": true
   },
   "outputs": [],
   "source": [
    "def findBorough(row):\n",
    "    a = row[\"LONGITUDE_2010\"]\n",
    "    b = row[\"LATITUDE_2010\"]\n",
    "    \n",
    "    if pd.isnull(a) == True: \n",
    "        return 'NA' \n",
    "    \n",
    "    else: \n",
    "        li = list(idx.intersection((a, b)))\n",
    "        if len(li) != 0:\n",
    "            li2 = [sf.record(ix)[2] for ix in li]\n",
    "            bor = most_common(li2)\n",
    "            return bor\n",
    "        else: \n",
    "            return 'NA'    "
   ]
  },
  {
   "cell_type": "markdown",
   "metadata": {},
   "source": [
    "####This function extracts the census tract of a business"
   ]
  },
  {
   "cell_type": "code",
   "execution_count": 29,
   "metadata": {
    "collapsed": true
   },
   "outputs": [],
   "source": [
    "def findCT(row):\n",
    "    a = row[\"LONGITUDE_2010\"]\n",
    "    b = row[\"LATITUDE_2010\"]\n",
    "    \n",
    "    if pd.isnull(a) == True: \n",
    "        return 'NA' \n",
    "    else:\n",
    "        li = list(idx.intersection((a, b)))\n",
    "        \n",
    "        if len(li) != 0:\n",
    "            li2 = [sf.record(ix)[3] for ix in li]\n",
    "            ct = most_common(li2)\n",
    "            return ct"
   ]
  },
  {
   "cell_type": "markdown",
   "metadata": {},
   "source": [
    "####This function extracts the census block of a business.  There are several values; we take the census block that occurs most in any list"
   ]
  },
  {
   "cell_type": "code",
   "execution_count": 76,
   "metadata": {
    "collapsed": true
   },
   "outputs": [],
   "source": [
    "def findCB(row):\n",
    "    a = row[\"LONGITUDE_2010\"]\n",
    "    b = row[\"LATITUDE_2010\"]\n",
    "    \n",
    "    if pd.isnull(a) == True: \n",
    "        return 'NA' \n",
    "    else:\n",
    "        li = list(idx.intersection((a, b)))\n",
    "        \n",
    "        if len(li) != 0:\n",
    "            li2 = [sf.record(ix)[0][0] for ix in li]\n",
    "            ct = most_common(li2)\n",
    "            return ct"
   ]
  },
  {
   "cell_type": "code",
   "execution_count": 77,
   "metadata": {
    "collapsed": true
   },
   "outputs": [],
   "source": [
    "pd.set_option('chained_assignment','warn')"
   ]
  },
  {
   "cell_type": "code",
   "execution_count": 237,
   "metadata": {
    "collapsed": false
   },
   "outputs": [
    {
     "name": "stderr",
     "output_type": "stream",
     "text": [
      "/opt/rh/anaconda/root/lib/python2.7/site-packages/IPython/kernel/__main__.py:1: SettingWithCopyWarning: \n",
      "A value is trying to be set on a copy of a slice from a DataFrame.\n",
      "Try using .loc[row_indexer,col_indexer] = value instead\n",
      "\n",
      "See the the caveats in the documentation: http://pandas.pydata.org/pandas-docs/stable/indexing.html#indexing-view-versus-copy\n",
      "  if __name__ == '__main__':\n"
     ]
    }
   ],
   "source": [
    "ref10.b['SHP_BOROUGH'] = ref10.b.apply(findBorough, axis=1)"
   ]
  },
  {
   "cell_type": "code",
   "execution_count": 238,
   "metadata": {
    "collapsed": false
   },
   "outputs": [
    {
     "name": "stderr",
     "output_type": "stream",
     "text": [
      "/opt/rh/anaconda/root/lib/python2.7/site-packages/IPython/kernel/__main__.py:1: SettingWithCopyWarning: \n",
      "A value is trying to be set on a copy of a slice from a DataFrame.\n",
      "Try using .loc[row_indexer,col_indexer] = value instead\n",
      "\n",
      "See the the caveats in the documentation: http://pandas.pydata.org/pandas-docs/stable/indexing.html#indexing-view-versus-copy\n",
      "  if __name__ == '__main__':\n"
     ]
    }
   ],
   "source": [
    "ref10.b['SHP_CENSUS_TRACT'] = ref10.b.apply(findCT, axis=1)"
   ]
  },
  {
   "cell_type": "code",
   "execution_count": 239,
   "metadata": {
    "collapsed": false
   },
   "outputs": [
    {
     "name": "stderr",
     "output_type": "stream",
     "text": [
      "/opt/rh/anaconda/root/lib/python2.7/site-packages/IPython/kernel/__main__.py:1: SettingWithCopyWarning: \n",
      "A value is trying to be set on a copy of a slice from a DataFrame.\n",
      "Try using .loc[row_indexer,col_indexer] = value instead\n",
      "\n",
      "See the the caveats in the documentation: http://pandas.pydata.org/pandas-docs/stable/indexing.html#indexing-view-versus-copy\n",
      "  if __name__ == '__main__':\n"
     ]
    }
   ],
   "source": [
    "ref10.b['SHP_CENSUS_BLOCK'] = ref10.b.apply(findCB, axis=1)"
   ]
  },
  {
   "cell_type": "code",
   "execution_count": null,
   "metadata": {
    "collapsed": false
   },
   "outputs": [],
   "source": []
  },
  {
   "cell_type": "code",
   "execution_count": 86,
   "metadata": {
    "collapsed": false
   },
   "outputs": [],
   "source": []
  },
  {
   "cell_type": "markdown",
   "metadata": {},
   "source": [
    "####read nys_acs data (contains New York, Richmond, Kings, Queens, and Bronx Counties) "
   ]
  },
  {
   "cell_type": "code",
   "execution_count": 87,
   "metadata": {
    "collapsed": true
   },
   "outputs": [],
   "source": [
    "acs = pd.read_csv(\"nys_mi.csv\", dtype = {'Geo_TRACT': object, 'Geo_BLKGRP': object, 'Geo_COUNTY': object})"
   ]
  },
  {
   "cell_type": "code",
   "execution_count": 139,
   "metadata": {
    "collapsed": false
   },
   "outputs": [],
   "source": [
    "counties = ['005', '047', '061', '081', '085']\n",
    "\n",
    "counties_dict = {'005': 'Bronx',\n",
    "                 '047': 'Brooklyn',\n",
    "                 '061': 'Manhattan',\n",
    "                 '081': 'Queens',\n",
    "                 '085': 'Staten Island'}\n",
    " \n",
    "acs.b = acs[acs['Geo_COUNTY'].isin(counties)][['Geo_NAME', 'Geo_COUNTY', 'Geo_TRACT', 'Geo_BLKGRP', 'SE_T057_001']]\n",
    "acs.b = acs.b.rename(columns = {'Geo_TRACT': 'SHP_CENSUS_TRACT', 'Geo_BLKGRP': 'SHP_CENSUS_BLOCK'})"
   ]
  },
  {
   "cell_type": "code",
   "execution_count": 145,
   "metadata": {
    "collapsed": true
   },
   "outputs": [],
   "source": [
    "def labelBorough(row):\n",
    "    boro = counties_dict[row['Geo_COUNTY']]\n",
    "    return boro"
   ]
  },
  {
   "cell_type": "code",
   "execution_count": 151,
   "metadata": {
    "collapsed": false
   },
   "outputs": [],
   "source": [
    "acs.b['SHP_BOROUGH'] = acs.b.apply(labelBorough, axis = 1)"
   ]
  },
  {
   "cell_type": "markdown",
   "metadata": {},
   "source": [
    "####Merge Files "
   ]
  },
  {
   "cell_type": "code",
   "execution_count": 240,
   "metadata": {
    "collapsed": false
   },
   "outputs": [],
   "source": [
    "result = pd.merge(ref10.b, acs.b, how = 'inner', on = ['SHP_BOROUGH', 'SHP_CENSUS_TRACT','SHP_CENSUS_BLOCK'])"
   ]
  },
  {
   "cell_type": "code",
   "execution_count": null,
   "metadata": {
    "collapsed": false
   },
   "outputs": [],
   "source": []
  },
  {
   "cell_type": "markdown",
   "metadata": {},
   "source": [
    "####Append the LMI attribute "
   ]
  },
  {
   "cell_type": "markdown",
   "metadata": {},
   "source": [
    "##### The suggested threshold for LMI is a household income of $55,113"
   ]
  },
  {
   "cell_type": "code",
   "execution_count": 241,
   "metadata": {
    "collapsed": false
   },
   "outputs": [],
   "source": [
    "LMI_threshold = 55113 "
   ]
  },
  {
   "cell_type": "code",
   "execution_count": 242,
   "metadata": {
    "collapsed": false
   },
   "outputs": [],
   "source": [
    "def LMI(row):\n",
    "    return row['SE_T057_001'] < LMI_threshold"
   ]
  },
  {
   "cell_type": "code",
   "execution_count": 243,
   "metadata": {
    "collapsed": false
   },
   "outputs": [],
   "source": [
    "result['LMI'] = result.apply(LMI, axis = 1)"
   ]
  },
  {
   "cell_type": "code",
   "execution_count": 244,
   "metadata": {
    "collapsed": false
   },
   "outputs": [],
   "source": [
    "result.to_csv(\"Ref14_LMI.csv\")"
   ]
  },
  {
   "cell_type": "code",
   "execution_count": null,
   "metadata": {
    "collapsed": false
   },
   "outputs": [],
   "source": []
  },
  {
   "cell_type": "code",
   "execution_count": null,
   "metadata": {
    "collapsed": true
   },
   "outputs": [],
   "source": []
  }
 ],
 "metadata": {
  "kernelspec": {
   "display_name": "Python 2",
   "language": "python",
   "name": "python2"
  },
  "language_info": {
   "codemirror_mode": {
    "name": "ipython",
    "version": 2
   },
   "file_extension": ".py",
   "mimetype": "text/x-python",
   "name": "python",
   "nbconvert_exporter": "python",
   "pygments_lexer": "ipython2",
   "version": "2.7.9"
  }
 },
 "nbformat": 4,
 "nbformat_minor": 0
}
